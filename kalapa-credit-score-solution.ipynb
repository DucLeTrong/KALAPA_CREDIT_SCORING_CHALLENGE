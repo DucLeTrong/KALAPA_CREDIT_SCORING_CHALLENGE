{
 "cells": [
  {
   "cell_type": "code",
   "execution_count": 1,
   "metadata": {
    "_cell_guid": "7015d53c-d7f3-4ae6-b94e-4ef844b02c7e",
    "_uuid": "6292170b-19e0-4850-8319-25c60245ad19",
    "execution": {
     "iopub.execute_input": "2020-09-25T04:08:45.424312Z",
     "iopub.status.busy": "2020-09-25T04:08:45.423655Z",
     "iopub.status.idle": "2020-09-25T04:08:47.238940Z",
     "shell.execute_reply": "2020-09-25T04:08:47.238239Z"
    },
    "id": "43P0ojkFTWja",
    "papermill": {
     "duration": 1.853223,
     "end_time": "2020-09-25T04:08:47.239059",
     "exception": false,
     "start_time": "2020-09-25T04:08:45.385836",
     "status": "completed"
    },
    "tags": []
   },
   "outputs": [],
   "source": [
    "import os\n",
    "import re\n",
    "import datetime\n",
    "import warnings\n",
    "import numpy as np\n",
    "import pandas as pd\n",
    "import xgboost as xgb\n",
    "import lightgbm as lgb\n",
    "import seaborn as sns\n",
    "import matplotlib.pyplot as plt\n",
    "from sklearn.metrics import roc_auc_score\n",
    "from sklearn.preprocessing import LabelEncoder\n",
    "from sklearn.model_selection import StratifiedKFold"
   ]
  },
  {
   "cell_type": "markdown",
   "metadata": {
    "papermill": {
     "duration": 0.02816,
     "end_time": "2020-09-25T04:08:47.295284",
     "exception": false,
     "start_time": "2020-09-25T04:08:47.267124",
     "status": "completed"
    },
    "tags": []
   },
   "source": [
    "# I. Data engineering"
   ]
  },
  {
   "cell_type": "markdown",
   "metadata": {
    "papermill": {
     "duration": 0.027474,
     "end_time": "2020-09-25T04:08:47.350468",
     "exception": false,
     "start_time": "2020-09-25T04:08:47.322994",
     "status": "completed"
    },
    "tags": []
   },
   "source": [
    "### 1. Define utils funtions"
   ]
  },
  {
   "cell_type": "code",
   "execution_count": 2,
   "metadata": {
    "_cell_guid": "5d3acc6e-3633-402b-8931-fbd65b6155fa",
    "_uuid": "7a1664dd-3a23-4cc9-ae5d-2070d957ec83",
    "execution": {
     "iopub.execute_input": "2020-09-25T04:08:47.431450Z",
     "iopub.status.busy": "2020-09-25T04:08:47.430531Z",
     "iopub.status.idle": "2020-09-25T04:08:47.433473Z",
     "shell.execute_reply": "2020-09-25T04:08:47.432951Z"
    },
    "id": "43P0ojkFTWja",
    "papermill": {
     "duration": 0.054481,
     "end_time": "2020-09-25T04:08:47.433613",
     "exception": false,
     "start_time": "2020-09-25T04:08:47.379132",
     "status": "completed"
    },
    "tags": []
   },
   "outputs": [],
   "source": [
    "# Helper function for Woe encoder\n",
    "def char_bin(Y, X):\n",
    "    df1 = pd.DataFrame({\"X\": X, \"Y\": Y})\n",
    "    justmiss = df1[['X', 'Y']][df1.X.isnull()]\n",
    "    notmiss = df1[['X', 'Y']][df1.X.notnull()]\n",
    "    df2 = notmiss.groupby('X', as_index=True)\n",
    "\n",
    "    d3 = pd.DataFrame({}, index=[])\n",
    "    d3[\"COUNT\"] = df2.count().Y\n",
    "    d3[\"MIN_VALUE\"] = df2.sum().Y.index\n",
    "    d3[\"MAX_VALUE\"] = d3[\"MIN_VALUE\"]\n",
    "    d3[\"EVENT\"] = df2.sum().Y\n",
    "    d3[\"NONEVENT\"] = df2.count().Y - df2.sum().Y\n",
    "\n",
    "    if len(justmiss.index) > 0:\n",
    "        d4 = pd.DataFrame({'MIN_VALUE': np.nan}, index=[0])\n",
    "        d4[\"MAX_VALUE\"] = np.nan\n",
    "        d4[\"COUNT\"] = justmiss.count().Y\n",
    "        d4[\"EVENT\"] = justmiss.sum().Y\n",
    "        d4[\"NONEVENT\"] = justmiss.count().Y - justmiss.sum().Y\n",
    "        d3 = d3.append(d4, ignore_index=True)\n",
    "\n",
    "    d3[\"EVENT_RATE\"] = d3.EVENT / d3.COUNT\n",
    "    d3[\"NON_EVENT_RATE\"] = d3.NONEVENT / d3.COUNT\n",
    "    d3[\"DIST_EVENT\"] = d3.EVENT / d3.sum().EVENT\n",
    "    d3[\"DIST_NON_EVENT\"] = d3.NONEVENT / d3.sum().NONEVENT\n",
    "    d3[\"WOE\"] = np.log(d3.DIST_EVENT / d3.DIST_NON_EVENT)\n",
    "    d3[\"IV\"] = (d3.DIST_EVENT - d3.DIST_NON_EVENT) * np.log(d3.DIST_EVENT / d3.DIST_NON_EVENT)\n",
    "    d3[\"VAR_NAME\"] = \"VAR\"\n",
    "    d3 = d3[['VAR_NAME', 'MIN_VALUE', 'MAX_VALUE', 'COUNT', 'EVENT', 'EVENT_RATE',\n",
    "             'NONEVENT', 'NON_EVENT_RATE', 'DIST_EVENT', 'DIST_NON_EVENT', 'WOE', 'IV']]\n",
    "    \n",
    "    d3 = d3.replace([np.inf, -np.inf], 0)\n",
    "    d3.IV = d3.IV.sum()\n",
    "    d3 = d3.reset_index(drop=True)\\\n",
    "    \n",
    "    return (d3)\n",
    "\n",
    "# Calculate gini score function\n",
    "def gini(df, c, label):\n",
    "    if c != label:\n",
    "        #         return roc_auc_score(df[c], df[label]) *2 -1\n",
    "        a = pd.DataFrame(df[c].value_counts()).reset_index().rename(\n",
    "                                            columns={'index': c, c: 'count'})\n",
    "        b = pd.DataFrame(df.groupby([c])[label].sum()).reset_index()\n",
    "        a = a.merge(b, how='outer', left_on=c, right_on=c)\n",
    "        a = a.sort_values(by=[c], ascending=False)\n",
    "        a['day'] = a[label].cumsum() / a[label].sum()\n",
    "        a['chieucao'] = a['count'] / a['count'].sum()\n",
    "        a['day2'] = a['day'] + a['day'].shift(periods=1, fill_value=0)\n",
    "        a['area'] = (a['day2'] * a['chieucao']) / 2\n",
    "        print(c, 2 * a['count'].sum() * (a['area'].sum() - 0.5) / \n",
    "                                  (a['count'].sum() - a[label].sum()))\n",
    "\n",
    "\n",
    "# Fill nan value function\n",
    "def fill_nan(df, fea):\n",
    "    for i in fea:\n",
    "        if df[i].dtype == object:\n",
    "            df[i].fillna('hihi', inplace=True)\n",
    "        else:\n",
    "            df[i].fillna(-2, inplace=True)\n",
    "    return df"
   ]
  },
  {
   "cell_type": "markdown",
   "metadata": {
    "papermill": {
     "duration": 0.027574,
     "end_time": "2020-09-25T04:08:47.489110",
     "exception": false,
     "start_time": "2020-09-25T04:08:47.461536",
     "status": "completed"
    },
    "tags": []
   },
   "source": [
    "### 2. Read input data"
   ]
  },
  {
   "cell_type": "code",
   "execution_count": 3,
   "metadata": {
    "_cell_guid": "2817afdd-ef4b-42e8-8c00-8bcec4e6b68c",
    "_uuid": "136788dc-5620-48e7-a18f-b56bf8c6bda5",
    "execution": {
     "iopub.execute_input": "2020-09-25T04:08:47.550555Z",
     "iopub.status.busy": "2020-09-25T04:08:47.549904Z",
     "iopub.status.idle": "2020-09-25T04:08:49.869970Z",
     "shell.execute_reply": "2020-09-25T04:08:49.869322Z"
    },
    "id": "43P0ojkFTWja",
    "papermill": {
     "duration": 2.352983,
     "end_time": "2020-09-25T04:08:49.870098",
     "exception": false,
     "start_time": "2020-09-25T04:08:47.517115",
     "status": "completed"
    },
    "tags": []
   },
   "outputs": [
    {
     "name": "stdout",
     "output_type": "stream",
     "text": [
      "['kadata']\n"
     ]
    },
    {
     "name": "stderr",
     "output_type": "stream",
     "text": [
      "/opt/conda/lib/python3.7/site-packages/IPython/core/interactiveshell.py:3063: DtypeWarning: Columns (35,43) have mixed types.Specify dtype option on import or set low_memory=False.\n",
      "  interactivity=interactivity, compiler=compiler, result=result)\n",
      "/opt/conda/lib/python3.7/site-packages/IPython/core/interactiveshell.py:3063: DtypeWarning: Columns (34,42) have mixed types.Specify dtype option on import or set low_memory=False.\n",
      "  interactivity=interactivity, compiler=compiler, result=result)\n"
     ]
    },
    {
     "name": "stdout",
     "output_type": "stream",
     "text": [
      "<class 'pandas.core.frame.DataFrame'>\n",
      "Int64Index: 73411 entries, 0 to 20380\n",
      "Columns: 195 entries, id to Field_82\n",
      "dtypes: float64(134), int64(2), object(59)\n",
      "memory usage: 109.8+ MB\n"
     ]
    }
   ],
   "source": [
    "print(os.listdir(\"../input\"))\n",
    "\n",
    "df_train = pd.read_csv('../input/kadata/train.csv')\n",
    "df_test = pd.read_csv('../input/kadata/test.csv')\n",
    "df = pd.concat((df_train, df_test), axis=0, sort=False)\n",
    "df.info()"
   ]
  },
  {
   "cell_type": "markdown",
   "metadata": {
    "papermill": {
     "duration": 0.028735,
     "end_time": "2020-09-25T04:08:49.929351",
     "exception": false,
     "start_time": "2020-09-25T04:08:49.900616",
     "status": "completed"
    },
    "tags": []
   },
   "source": [
    "### 3. Feature engineering"
   ]
  },
  {
   "cell_type": "markdown",
   "metadata": {
    "papermill": {
     "duration": 0.028472,
     "end_time": "2020-09-25T04:08:49.986842",
     "exception": false,
     "start_time": "2020-09-25T04:08:49.958370",
     "status": "completed"
    },
    "tags": []
   },
   "source": [
    "#### Split groups of features \n",
    "Dữ liệu của cuộc thi với gần 200 trường được ghép từ hai nguồn khác nhau nên có rất nhiều trường chứa đến 50% là giá trị nan. Các feature sẽ được chia thành các nhóm khác nhau để dễ xử lý"
   ]
  },
  {
   "cell_type": "code",
   "execution_count": 4,
   "metadata": {
    "_cell_guid": "b2b1a128-e325-4ad7-8b14-db711962b7ac",
    "_uuid": "4295238b-507d-465f-b65e-71063d62450b",
    "execution": {
     "iopub.execute_input": "2020-09-25T04:08:50.059092Z",
     "iopub.status.busy": "2020-09-25T04:08:50.058391Z",
     "iopub.status.idle": "2020-09-25T04:08:50.061520Z",
     "shell.execute_reply": "2020-09-25T04:08:50.060895Z"
    },
    "id": "43P0ojkFTWja",
    "papermill": {
     "duration": 0.045851,
     "end_time": "2020-09-25T04:08:50.061634",
     "exception": false,
     "start_time": "2020-09-25T04:08:50.015783",
     "status": "completed"
    },
    "tags": []
   },
   "outputs": [],
   "source": [
    "# all date features\n",
    "fea_date = [ 'Field_1','Field_2', 'Field_43', 'Field_44', \n",
    "            'Field_5', 'Field_6', 'Field_7', 'Field_8',\n",
    "            'Field_9', 'Field_11', 'Field_15', 'Field_25',\n",
    "            'Field_32', 'Field_33', 'Field_34','Field_35',\n",
    "            'Field_40', 'F_startDate', 'F_endDate', 'E_startDate',\n",
    "            'E_endDate', 'C_startDate', 'C_endDate', 'G_startDate',\n",
    "            'G_endDate', 'A_startDate', 'A_endDate']\n",
    "\n",
    "# all partner-features\n",
    "fea_partner = ['partner0_B', 'partner0_K', 'partner0_L', 'partner1_B',\n",
    "               'partner1_D', 'partner1_E', 'partner1_F', 'partner1_K',\n",
    "               'partner1_L', 'partner2_B', 'partner2_G', 'partner2_K',\n",
    "               'partner2_L', 'partner3_B', 'partner3_C', 'partner3_F',\n",
    "               'partner3_G', 'partner3_H', 'partner3_K', 'partner3_L',\n",
    "               'partner4_A', 'partner4_B', 'partner4_C', 'partner4_D',\n",
    "               'partner4_E', 'partner4_F', 'partner4_G', 'partner4_H',\n",
    "               'partner4_K', 'partner5_B', 'partner5_C', 'partner5_H',\n",
    "               'partner5_K', 'partner5_L', 'partner0_A', 'partner0_C',\n",
    "               'partner0_F', 'partner0_G', 'partner0_H', 'partner1_A',\n",
    "               'partner1_C', 'partner1_G', 'partner1_H', 'partner2_A',\n",
    "               'partner2_C', 'partner2_D', 'partner2_E', 'partner2_F',\n",
    "               'partner2_H', 'partner3_A', 'partner3_D', 'partner3_E',\n",
    "               'partner4_L', 'partner5_A', 'partner5_D', 'partner5_E',\n",
    "               'partner5_F', 'partner5_G', 'partner0_D', 'partner0_E',]\n",
    "\n",
    "# List usefull partner-feature\n",
    "fea_selected_partner = ['partner0_B', 'partner0_A', 'partner0_H', 'partner1_G',\n",
    "                        'partner1_C', 'partner1_A', 'partner2_A', 'partner3_A',\n",
    "                        'partner3_D', 'partner4_L', 'partner5_A']\n",
    "\n",
    "# List all category-features which have few unique values \n",
    "fea_cat_1 = ['Field_4', 'namSinh', 'gioiTinh', 'Field_38',\n",
    "             'Field_47', 'Field_62', 'info_social_sex', 'Field_82',\n",
    "             'Field_12', 'Field_65', 'Field_66']\n",
    "\n",
    "# List all category-features which have many unique values \n",
    "fea_cat_2 = ['Field_18', 'diaChi', 'Field_36', 'Field_45', \n",
    "             'Field_46', 'Field_48', 'Field_49', 'Field_54',\n",
    "             'Field_55', 'Field_56', 'Field_61', 'Field_68',\n",
    "             'maCv', 'data.basic_info.locale', 'currentLocationCity', \n",
    "             'currentLocationCountry', 'currentLocationName', \n",
    "             'currentLocationState', 'homeTownCity', 'homeTownCountry', \n",
    "             'homeTownName', 'homeTownState', 'brief']\n",
    "\n",
    "\n",
    "# List all float-features\n",
    "fea_float = [c for c in df.columns \n",
    "             if c not in ['id', 'label']and \\\n",
    "                c not in fea_date + fea_cat_1 + fea_cat_2 + fea_partner]\n",
    "\n",
    "# List usefull float-features\n",
    "fea_selected_float = [ c for c in fea_float \n",
    "                  if c not in [ 'Field_14','Field_16','Field_17', 'Field_24',\n",
    "                                'Field_26', 'Field_30', 'Field_31', 'Field_37', \n",
    "                                'Field_52', 'Field_57', 'A_numQuery', 'C_numQuery', \n",
    "                                'E_numQuery', 'F_numQuery', 'G_numQuery']]\n"
   ]
  },
  {
   "cell_type": "markdown",
   "metadata": {
    "papermill": {
     "duration": 0.029263,
     "end_time": "2020-09-25T04:08:50.120190",
     "exception": false,
     "start_time": "2020-09-25T04:08:50.090927",
     "status": "completed"
    },
    "tags": []
   },
   "source": [
    "#### Process Date features\n",
    "Đôi với fea_date: Các feature ngày tháng gần như không có tác dụng giúp tăng CV của model. Nhóm biến đổi các feature này thành dạng quarter và datediff để sử dụng"
   ]
  },
  {
   "cell_type": "code",
   "execution_count": 5,
   "metadata": {
    "_cell_guid": "c414838c-2ca9-40dc-8af4-4becf3297aaa",
    "_uuid": "19ac077e-1b6f-4a23-b515-18e5a07e1d4a",
    "execution": {
     "iopub.execute_input": "2020-09-25T04:08:50.217168Z",
     "iopub.status.busy": "2020-09-25T04:08:50.200076Z",
     "iopub.status.idle": "2020-09-25T04:08:51.795130Z",
     "shell.execute_reply": "2020-09-25T04:08:51.794605Z"
    },
    "papermill": {
     "duration": 1.644493,
     "end_time": "2020-09-25T04:08:51.795249",
     "exception": false,
     "start_time": "2020-09-25T04:08:50.150756",
     "status": "completed"
    },
    "tags": []
   },
   "outputs": [
    {
     "name": "stdout",
     "output_type": "stream",
     "text": [
      "<class 'pandas.core.frame.DataFrame'>\n",
      "Int64Index: 73411 entries, 0 to 20380\n",
      "Columns: 221 entries, id to quarter_A_endDate\n",
      "dtypes: float64(160), int64(2), object(59)\n",
      "memory usage: 124.3+ MB\n"
     ]
    }
   ],
   "source": [
    "# Get quarter-features from date\n",
    "for c in fea_date:\n",
    "    if c not in ['Field_34']:\n",
    "        df['quarter_' + c] = pd.to_datetime(df[c]).dt.quarter\n",
    "\n",
    "fea_quater = [c for c in df.columns if c.startswith('quarter_')]\n",
    "fea_notdate = [c for c in df.columns if c not in fea_date]\n",
    "\n",
    "df = fill_nan(df, fea_notdate)\n",
    "df.info()\n"
   ]
  },
  {
   "cell_type": "code",
   "execution_count": 6,
   "metadata": {
    "execution": {
     "iopub.execute_input": "2020-09-25T04:08:51.884443Z",
     "iopub.status.busy": "2020-09-25T04:08:51.883401Z",
     "iopub.status.idle": "2020-09-25T04:08:52.077623Z",
     "shell.execute_reply": "2020-09-25T04:08:52.076923Z"
    },
    "papermill": {
     "duration": 0.252771,
     "end_time": "2020-09-25T04:08:52.077739",
     "exception": false,
     "start_time": "2020-09-25T04:08:51.824968",
     "status": "completed"
    },
    "tags": []
   },
   "outputs": [
    {
     "name": "stdout",
     "output_type": "stream",
     "text": [
      "diff4 -0.07471314206329183\n",
      "diff2 -0.08219465498813852\n"
     ]
    }
   ],
   "source": [
    "# Get datediff features\n",
    "\n",
    "df['diff4'] = (pd.to_datetime(df['Field_44']) -\n",
    "               pd.to_datetime(df['Field_43'])).dt.seconds / 3600\n",
    "df = fill_nan(df, ['diff4'])\n",
    "gini(df=df[:53030], c='diff4', label='label')\n",
    "\n",
    "df['diff2'] = (pd.to_datetime(df['Field_2']) -\n",
    "               pd.to_datetime(df['Field_1'])).dt.seconds / 3600\n",
    "df = fill_nan(df, ['diff2'])\n",
    "gini(df=df[:53030], c='diff2', label='label')"
   ]
  },
  {
   "cell_type": "markdown",
   "metadata": {
    "papermill": {
     "duration": 0.030539,
     "end_time": "2020-09-25T04:08:52.138957",
     "exception": false,
     "start_time": "2020-09-25T04:08:52.108418",
     "status": "completed"
    },
    "tags": []
   },
   "source": [
    "#### Other features\n",
    "Làm sạch dữ liệu đối với một số categorical features"
   ]
  },
  {
   "cell_type": "code",
   "execution_count": 7,
   "metadata": {
    "_cell_guid": "87261433-8ae8-4296-963f-9bff2657f078",
    "_uuid": "41375ba0-02c0-4d71-af20-d2537be2011c",
    "execution": {
     "iopub.execute_input": "2020-09-25T04:08:52.224907Z",
     "iopub.status.busy": "2020-09-25T04:08:52.209886Z",
     "iopub.status.idle": "2020-09-25T04:08:53.605911Z",
     "shell.execute_reply": "2020-09-25T04:08:53.606547Z"
    },
    "papermill": {
     "duration": 1.435674,
     "end_time": "2020-09-25T04:08:53.606691",
     "exception": false,
     "start_time": "2020-09-25T04:08:52.171017",
     "status": "completed"
    },
    "tags": []
   },
   "outputs": [
    {
     "name": "stdout",
     "output_type": "stream",
     "text": [
      "t_diachi -0.09183517654943324\n",
      "t_Field_55 -0.09940356787283643\n",
      "t_Field_56 -0.10100835433906546\n"
     ]
    }
   ],
   "source": [
    "# Process diaChi field\n",
    "df.loc[(df['diaChi'].str.upper().str.count('XÃ') == 1), 't_diachi'] = 2\n",
    "df.loc[(df['diaChi'].str.upper().str.count('THỊ TRẤN') == 1), 't_diachi'] = 3\n",
    "df.loc[(df['diaChi'].str.upper().str.count('PHƯỜNG') == 1), 't_diachi'] = 4\n",
    "df.loc[(df['diaChi'].str.upper().str.count('CTY') == 1) |\n",
    "       (df['diaChi'].str.upper().str.count('CÔNG TY') == 1), 't_diachi'] = 1\n",
    "df.loc[(df['diaChi'].str.upper().str.count('TT DỊCH') == 1), 't_diachi'] = 5\n",
    "df.loc[(df['diaChi'].str.upper().str.count('TT GIỚI') == 1), 't_diachi'] = 5\n",
    "df.loc[(df['diaChi'].str.upper().str.count('HIHI') == 1), 't_diachi'] = -2\n",
    "df['t_diachi'].fillna(5, inplace=True)\n",
    "\n",
    "gini(df=df[:53030], c='t_diachi', label='label')\n",
    "\n",
    "\n",
    "# Process Field_55\n",
    "df.loc[(df['Field_55'] == 'hihi'), 't_Field_55'] = -2\n",
    "df.loc[(df['Field_55'] == 'YN'), 't_Field_55'] = 1\n",
    "df.loc[(df['Field_55'] == 'BI'), 't_Field_55'] = 2\n",
    "df.loc[(df['Field_55'] == 'BO'), 't_Field_55'] = 3\n",
    "df.loc[(df['Field_55'] == 'TA'), 't_Field_55'] = 4\n",
    "df['t_Field_55'].fillna(3.5, inplace=True)\n",
    "\n",
    "gini(df=df[:53030], c='t_Field_55', label='label')\n",
    "\n",
    "\n",
    "# Process Field_56\n",
    "df.loc[(df['Field_56'] == 'hihi'), 't_Field_56'] = -2\n",
    "df.loc[(df['Field_56'] == 'Doanh nghiệp có vốn đầu tư nước ngoài'), 't_Field_56'] = 1\n",
    "df.loc[(df['Field_56'] ==\n",
    "        'Là những người thuộc hộ gia đình, trừ các đối tượng trên'), 't_Field_56'] = 2\n",
    "df.loc[(df['Field_56'] == 'Người đang hưởng trợ cấp thất nghiệp'), 't_Field_56'] = 4\n",
    "df.loc[(df['Field_56'] == 'Ngoài quốc doanh Tỉnh/TP'), 't_Field_56'] = 3\n",
    "df.loc[(df['Field_56'] == 'Ngoài quốc doanh Quận 1'), 't_Field_56'] = 5\n",
    "df['t_Field_56'].fillna(4.5, inplace=True)\n",
    "\n",
    "gini(df=df[:53030], c='t_Field_56', label='label')\n",
    "\n",
    "\n",
    "# Field 62 65\n",
    "df.loc[(df['Field_62'] == 'Ngoài quốc doanh Quận 7'), 'Field_62'] = 'hihi'\n",
    "df.loc[(df['Field_65'] == '5'), 'Field_65'] = 'hihi'\n",
    "\n",
    "# Transform Long latitude features\n",
    "for c in ['currentLocationLatitude', 'currentLocationLongitude',\n",
    "          'homeTownLatitude', 'homeTownLongitude']:\n",
    "    df['t_' + c] = df[c]\n",
    "    df['t_' + c] = df['t_' + c].replace(-2, -999)\n",
    "    df['t_' + c] = df['t_' + c].replace(0, -888)\n"
   ]
  },
  {
   "cell_type": "markdown",
   "metadata": {
    "papermill": {
     "duration": 0.030212,
     "end_time": "2020-09-25T04:08:53.667788",
     "exception": false,
     "start_time": "2020-09-25T04:08:53.637576",
     "status": "completed"
    },
    "tags": []
   },
   "source": [
    "#### Process maCv field\n",
    "Đối với feature ma_Cv, nhóm có sử dụng code của các team đã chia sẻ (thanks ^^)"
   ]
  },
  {
   "cell_type": "code",
   "execution_count": 8,
   "metadata": {
    "execution": {
     "iopub.execute_input": "2020-09-25T04:08:53.744824Z",
     "iopub.status.busy": "2020-09-25T04:08:53.743823Z",
     "iopub.status.idle": "2020-09-25T04:08:53.994771Z",
     "shell.execute_reply": "2020-09-25T04:08:53.994060Z"
    },
    "papermill": {
     "duration": 0.29648,
     "end_time": "2020-09-25T04:08:53.994895",
     "exception": false,
     "start_time": "2020-09-25T04:08:53.698415",
     "status": "completed"
    },
    "tags": []
   },
   "outputs": [],
   "source": [
    "def str_normalize(s):\n",
    "    s = str(s).strip().lower()\n",
    "    s = re.sub(' +', \" \", s)\n",
    "    return s\n",
    "\n",
    "def get_job_category(x):\n",
    "    if isinstance(x, str):\n",
    "        if \"công nhân\" in x or \"cnv\" in x or \"cn\" in x or \"may công nghiệp\" in x or \"lao động\" in x\\\n",
    "                or \"thợ\" in x or \"coõng nhaõn trửùc tieỏp maựy may coõng nghieọp\" in x or \"c.n\" in x or \"lđ\" in x:\n",
    "            return \"CN\"\n",
    "        elif \"giáo viên\" in x or \"gv\" in x or \"gíao viên\" in x:\n",
    "            return \"GV\"\n",
    "        elif \"nhân viên\" in x or \"kế toán\" in x or \"cán bộ\" in x or \"nv\" in x or \"cb\" in x or \"nhõn viờn\" in x:\n",
    "            return \"NV\"\n",
    "        elif \"tài xế\" in x or \"lái\" in x or \"tài xê\" in x:\n",
    "            return \"TX\"\n",
    "        elif \"quản lý\" in x or \"phó phòng\" in x or \"hiệu phó\" in x:\n",
    "            return \"QL\"\n",
    "        elif \"undefined\" in x:\n",
    "            return \"missing\"\n",
    "        elif \"giám đốc\" in x or \"hiệu trưởng\" in x:\n",
    "            return \"GĐ\"\n",
    "        elif \"phục vụ\" in x:\n",
    "            return \"PV\"\n",
    "        elif \"chuyên viên\" in x:\n",
    "            return \"CV\"\n",
    "        elif \"bác sĩ\" in x or \"dược sĩ\" in x or \"y sĩ\" in x or \"y sỹ\" in x:\n",
    "            return \"BS\"\n",
    "        elif \"y tá\" in x:\n",
    "            return \"YT\"\n",
    "        elif \"hộ sinh\" in x:\n",
    "            return \"HS\"\n",
    "        elif \"chủ tịch\" in x:\n",
    "            return \"CT\"\n",
    "        elif \"bếp\" in x:\n",
    "            return \"ĐB\"\n",
    "        elif \"sư\" in x:\n",
    "            return \"KS\"\n",
    "        elif \"dưỡng\" in x:\n",
    "            return \"ĐD\"\n",
    "        elif \"kỹ thuật\" in x or \"kĩ thuật\" in x:\n",
    "            return \"KTV\"\n",
    "        elif \"diễn viên\" in x:\n",
    "            return \"DV\"\n",
    "        else:\n",
    "            return \"missing\"\n",
    "    else:\n",
    "        return x\n",
    "\n",
    "\n",
    "def process_maCv(df):\n",
    "    df[\"maCv_processed\"] = df[\"maCv\"].apply(str_normalize).apply(\n",
    "        get_job_category).astype(\"category\")\n",
    "    return df\n",
    "\n",
    "\n",
    "df = process_maCv(df)"
   ]
  },
  {
   "cell_type": "markdown",
   "metadata": {
    "papermill": {
     "duration": 0.03048,
     "end_time": "2020-09-25T04:08:54.056220",
     "exception": false,
     "start_time": "2020-09-25T04:08:54.025740",
     "status": "completed"
    },
    "tags": []
   },
   "source": [
    "### 4. Creating new features"
   ]
  },
  {
   "cell_type": "markdown",
   "metadata": {
    "papermill": {
     "duration": 0.030337,
     "end_time": "2020-09-25T04:08:54.117063",
     "exception": false,
     "start_time": "2020-09-25T04:08:54.086726",
     "status": "completed"
    },
    "tags": []
   },
   "source": [
    "#### Creating new features by combining group of features\n",
    "Tạo thêm các features mới: do nhiều features đã bị giấu tên và ý nghĩa nên nhìn chung sẽ khó khăn cho việc tạo thêm các features, nhóm dã tạo thêm các features một cách thuần túy theo data science (cộng, trừ, nhân, chia, count,và các thước đo thống kê khác....) mà không cần quan tâm quá nhiều ý nghĩa về mặt bussiness. Qua nhiều lần thử, các features sau đây giúp tăng CV và được lựa chọn\n"
   ]
  },
  {
   "cell_type": "code",
   "execution_count": 9,
   "metadata": {
    "_cell_guid": "2c4a295d-209d-4943-bf26-c98986e6305b",
    "_uuid": "b9cfecd1-ae74-40c7-8f09-5bc87c008fb7",
    "execution": {
     "iopub.execute_input": "2020-09-25T04:08:54.233816Z",
     "iopub.status.busy": "2020-09-25T04:08:54.228843Z",
     "iopub.status.idle": "2020-09-25T04:08:54.762729Z",
     "shell.execute_reply": "2020-09-25T04:08:54.763217Z"
    },
    "papermill": {
     "duration": 0.615415,
     "end_time": "2020-09-25T04:08:54.763353",
     "exception": false,
     "start_time": "2020-09-25T04:08:54.147938",
     "status": "completed"
    },
    "tags": []
   },
   "outputs": [
    {
     "name": "stdout",
     "output_type": "stream",
     "text": [
      "a_diff -0.06524876980941756\n",
      "a_chia 0.09925590996710497\n",
      "a_chiaq 0.10538479275981105\n",
      "c_diff -0.0330911425742302\n",
      "c_chia 0.035472703705602036\n",
      "c_chiaq 0.037928205129006444\n",
      "e_diff -0.016576830858975714\n",
      "e_chia 0.02978445290443516\n",
      "e_chiaq 0.03147048306613091\n",
      "f_diff -0.012964438690420932\n",
      "f_chia 0.02594709870414238\n",
      "f_chiaq 0.03217637587117908\n",
      "g_diff 0.05452460806877444\n",
      "g_chia -0.04972659861485636\n",
      "g_chiaq -0.03903320291969942\n"
     ]
    }
   ],
   "source": [
    "\n",
    "df['a_diff'] = (pd.to_datetime(df['A_endDate']) - pd.to_datetime(df['A_startDate'])).dt.days\n",
    "df['a_chia'] = df['A_numOrg'] / ((df['a_diff']) + 1)\n",
    "df['a_chiaq'] = df['A_numQuery'] / ((df['a_diff']) + 1)\n",
    "gini(df=df[:53030], c='a_diff', label='label')\n",
    "gini(df=df[:53030], c='a_chia', label='label')\n",
    "gini(df=df[:53030], c='a_chiaq', label='label')\n",
    "\n",
    "df['c_diff'] = (pd.to_datetime(df['C_endDate']) - pd.to_datetime(df['C_startDate'])).dt.days\n",
    "df['c_chia'] = df['C_numOrg'] / ((df['c_diff']) + 1)\n",
    "df['c_chiaq'] = df['C_numQuery'] / ((df['c_diff']) + 1)\n",
    "gini(df=df[:53030], c='c_diff', label='label')\n",
    "gini(df=df[:53030], c='c_chia', label='label')\n",
    "gini(df=df[:53030], c='c_chiaq', label='label')\n",
    "\n",
    "df['e_diff'] = (pd.to_datetime(df['E_endDate']) - pd.to_datetime(df['E_startDate'])).dt.days\n",
    "df['e_chia'] = df['E_numOrg'] / ((df['e_diff']) + 1)\n",
    "df['e_chiaq'] = df['E_numQuery'] / ((df['e_diff']) + 1)\n",
    "gini(df=df[:53030], c='e_diff', label='label')\n",
    "gini(df=df[:53030], c='e_chia', label='label')\n",
    "gini(df=df[:53030], c='e_chiaq', label='label')\n",
    "\n",
    "df['f_diff'] = (pd.to_datetime(df['F_endDate']) - pd.to_datetime(df['F_startDate'])).dt.days\n",
    "df['f_chia'] = df['F_numOrg'] / ((df['f_diff']) + 1)\n",
    "df['f_chiaq'] = df['F_numQuery'] / ((df['f_diff']) + 1)\n",
    "gini(df=df[:53030], c='f_diff', label='label')\n",
    "gini(df=df[:53030], c='f_chia', label='label')\n",
    "gini(df=df[:53030], c='f_chiaq', label='label')\n",
    "\n",
    "df['g_diff'] = (pd.to_datetime(df['G_endDate']) - pd.to_datetime(df['G_startDate'])).dt.days\n",
    "df['g_chia'] = df['G_numOrg'] / ((df['g_diff']) + 1)\n",
    "df['g_chiaq'] = df['G_numQuery'] / ((df['g_diff']) + 1)\n",
    "gini(df=df[:53030], c='g_diff', label='label')\n",
    "gini(df=df[:53030], c='g_chia', label='label')\n",
    "gini(df=df[:53030], c='g_chiaq', label='label')\\\n",
    "\n",
    "\n",
    "feature_combine_Org_Query = [ 'a_chiaq', 'c_chiaq', 'e_chiaq',\n",
    "                             'f_chiaq', 'g_chiaq']\n",
    "df = fill_nan(df, feature_combine_Org_Query)"
   ]
  },
  {
   "cell_type": "markdown",
   "metadata": {
    "papermill": {
     "duration": 0.031534,
     "end_time": "2020-09-25T04:08:54.826512",
     "exception": false,
     "start_time": "2020-09-25T04:08:54.794978",
     "status": "completed"
    },
    "tags": []
   },
   "source": [
    "#### Create new features by squaring float features"
   ]
  },
  {
   "cell_type": "markdown",
   "metadata": {
    "papermill": {
     "duration": 0.031494,
     "end_time": "2020-09-25T04:08:54.889503",
     "exception": false,
     "start_time": "2020-09-25T04:08:54.858009",
     "status": "completed"
    },
    "tags": []
   },
   "source": [
    "Các float features chứa rất nhiều giá trị NaN có thể dẫn đến sự thiếu ổn định cho model, nhóm tạo thêm các feature mới bằng cách count encoder và square encoder, điều này sẽ giúp tăng CV và tính ổn định của model"
   ]
  },
  {
   "cell_type": "code",
   "execution_count": 10,
   "metadata": {
    "execution": {
     "iopub.execute_input": "2020-09-25T04:08:54.961719Z",
     "iopub.status.busy": "2020-09-25T04:08:54.960942Z",
     "iopub.status.idle": "2020-09-25T04:08:55.685218Z",
     "shell.execute_reply": "2020-09-25T04:08:55.685783Z"
    },
    "papermill": {
     "duration": 0.765098,
     "end_time": "2020-09-25T04:08:55.685936",
     "exception": false,
     "start_time": "2020-09-25T04:08:54.920838",
     "status": "completed"
    },
    "tags": []
   },
   "outputs": [
    {
     "name": "stdout",
     "output_type": "stream",
     "text": [
      "sq_Field_10 0.06663422656545517\n",
      "sq_Field_19 0.039990085941210646\n",
      "sq_Field_20 -0.09559422294158129\n",
      "sq_Field_23 -0.08909545976870743\n",
      "sq_Field_27 0.07590533459690467\n",
      "sq_Field_28 0.07545045249328874\n",
      "sq_Field_29 -0.03298561631683494\n",
      "sq_ngaySinh -0.054994885655191304\n",
      "sq_Field_59 -0.07637629987652846\n",
      "sq_Field_60 -0.06267391700447585\n",
      "sq_Field_63 -0.019022647543684677\n",
      "sq_Field_64 0.03567800866435558\n",
      "sq_Field_67 -0.08248773258543363\n",
      "sq_Field_69 0.06320372521585511\n",
      "sq_Field_70 0.055411845443820315\n",
      "sq_Field_71 0.05742128448695953\n",
      "sq_Field_72 0.07752662652931655\n",
      "sq_Field_74 0.052498774438326797\n",
      "sq_Field_75 -0.04402901377346885\n",
      "sq_Field_76 0.041684532663063614\n",
      "sq_Field_77 -0.03878796712375375\n",
      "sq_friendCount -0.008477591929350601\n",
      "sq_subscriberCount 0.017155388837366274\n",
      "sq_currentLocationLocationId -0.04934733952523115\n",
      "sq_currentLocationLatitude -0.04585993416374538\n",
      "sq_currentLocationLongitude -0.05155116514427275\n",
      "sq_homeTownLocationId -0.03922729843274913\n",
      "sq_homeTownLatitude -0.035264589869218696\n",
      "sq_homeTownLongitude -0.040895188524990994\n",
      "sq_numOrg 0.035604472663550074\n",
      "sq_F_numOrg 0.02416435905625379\n",
      "sq_E_numOrg 0.022549905924265066\n",
      "sq_A_numOrg 0.04440904535433288\n",
      "sq_summary_6m 0.03248778878124644\n",
      "sq_summary_3m 0.033498434332063565\n",
      "sq_summary_1m 0.046531219442704996\n",
      "sq_summary_1w 0.04140368011986543\n",
      "sq_Field_78 -0.09477905501988125\n",
      "sq_Field_79 -0.07947553840945748\n",
      "sq_Field_80 -0.06809390624038134\n",
      "sq_Field_81 -0.07896875240680748\n"
     ]
    }
   ],
   "source": [
    "# ------fea square-------\n",
    "fea_sq = []\n",
    "for c in fea_selected_float:\n",
    "    if df[c].nunique() > 6:\n",
    "        df['sq_' + c] = df[c] * df[c]\n",
    "        gini(df=df[:53030], c='sq_' + c, label='label')\n",
    "        fea_sq.append('sq_' + c)"
   ]
  },
  {
   "cell_type": "markdown",
   "metadata": {
    "papermill": {
     "duration": 0.03382,
     "end_time": "2020-09-25T04:08:55.753270",
     "exception": false,
     "start_time": "2020-09-25T04:08:55.719450",
     "status": "completed"
    },
    "tags": []
   },
   "source": [
    "#### Creating new features use count-encoder"
   ]
  },
  {
   "cell_type": "code",
   "execution_count": 11,
   "metadata": {
    "execution": {
     "iopub.execute_input": "2020-09-25T04:08:55.827170Z",
     "iopub.status.busy": "2020-09-25T04:08:55.826546Z",
     "iopub.status.idle": "2020-09-25T04:09:06.349260Z",
     "shell.execute_reply": "2020-09-25T04:09:06.348696Z"
    },
    "papermill": {
     "duration": 10.562718,
     "end_time": "2020-09-25T04:09:06.349380",
     "exception": false,
     "start_time": "2020-09-25T04:08:55.786662",
     "status": "completed"
    },
    "tags": []
   },
   "outputs": [
    {
     "name": "stdout",
     "output_type": "stream",
     "text": [
      "Number of float feauture columns: 41\n"
     ]
    }
   ],
   "source": [
    "fea_float_count = []\n",
    "for c in fea_selected_float:\n",
    "    if df[c].nunique() > 6:\n",
    "        a = pd.DataFrame(df[c].value_counts()). \\\n",
    "                        reset_index(). \\\n",
    "                        rename(columns={'index': c, \n",
    "                                        c: 'count_' + c})\n",
    "        df = pd.merge(df, a, left_on=c, right_on=c, how='left')\n",
    "        fea_float_count.append('count_' + c)\n",
    "        \n",
    "print(\"Number of float feauture columns:\", len(fea_float_count))\n"
   ]
  },
  {
   "cell_type": "markdown",
   "metadata": {
    "papermill": {
     "duration": 0.034608,
     "end_time": "2020-09-25T04:09:06.418780",
     "exception": false,
     "start_time": "2020-09-25T04:09:06.384172",
     "status": "completed"
    },
    "tags": []
   },
   "source": [
    "### 5. Encoding methods"
   ]
  },
  {
   "cell_type": "markdown",
   "metadata": {
    "papermill": {
     "duration": 0.033982,
     "end_time": "2020-09-25T04:09:06.487162",
     "exception": false,
     "start_time": "2020-09-25T04:09:06.453180",
     "status": "completed"
    },
    "tags": []
   },
   "source": [
    "#### Label encoder for category-features\n"
   ]
  },
  {
   "cell_type": "code",
   "execution_count": 12,
   "metadata": {
    "execution": {
     "iopub.execute_input": "2020-09-25T04:09:06.563457Z",
     "iopub.status.busy": "2020-09-25T04:09:06.562841Z",
     "iopub.status.idle": "2020-09-25T04:09:08.211669Z",
     "shell.execute_reply": "2020-09-25T04:09:08.210576Z"
    },
    "papermill": {
     "duration": 1.690107,
     "end_time": "2020-09-25T04:09:08.211828",
     "exception": false,
     "start_time": "2020-09-25T04:09:06.521721",
     "status": "completed"
    },
    "tags": []
   },
   "outputs": [
    {
     "name": "stdout",
     "output_type": "stream",
     "text": [
      "la_Field_18 0.00995574721022629\n",
      "la_diaChi 0.06727506751614756\n",
      "la_Field_36 0.07774480430928683\n",
      "la_Field_45 0.07830739998430221\n",
      "la_Field_46 0.07255697115109366\n",
      "la_Field_48 0.07096227199764718\n",
      "la_Field_49 0.0689795588288203\n",
      "la_Field_54 0.02924662788642936\n",
      "la_Field_55 0.07851046897765666\n",
      "la_Field_56 0.06352216651409645\n",
      "la_Field_61 0.07363693473042338\n",
      "la_Field_68 0.0850851441497534\n",
      "la_maCv 0.01991407088346631\n",
      "la_data.basic_info.locale -0.07989037524514334\n",
      "la_currentLocationCity 0.0733449153232943\n",
      "la_currentLocationCountry 0.0738527628024153\n",
      "la_currentLocationName 0.05892638089511671\n",
      "la_currentLocationState 0.06729705289569245\n",
      "la_homeTownCity 0.06742926258355385\n",
      "la_homeTownCountry 0.06809996125709467\n",
      "la_homeTownName 0.059795158308075115\n",
      "la_homeTownState 0.05823496371255573\n",
      "la_brief -0.10140233135462301\n"
     ]
    }
   ],
   "source": [
    "for i in fea_cat_2 + fea_cat_1:\n",
    "    df[i] = df[i].astype(str)\n",
    "label_encoder = LabelEncoder()\n",
    "for col in fea_cat_2 + fea_cat_1:\n",
    "    df['la_' + col] = label_encoder.fit_transform(df[col])\n",
    "\n",
    "la_fea_cat_2 = ['la_' + c for c in fea_cat_2]\n",
    "la_fea_cat_1 = ['la_' + c for c in fea_cat_1]\n",
    "\n",
    "for c in la_fea_cat_2:\n",
    "    gini(df=df[:53030], c=c, label='label')"
   ]
  },
  {
   "cell_type": "markdown",
   "metadata": {
    "papermill": {
     "duration": 0.033776,
     "end_time": "2020-09-25T04:09:08.280765",
     "exception": false,
     "start_time": "2020-09-25T04:09:08.246989",
     "status": "completed"
    },
    "tags": []
   },
   "source": [
    "#### WoE encoder for category-features\n",
    "Thực hiện WOE encoder đối với một số categorical features,qua nhiều lần thử nhóm nhận thấy chỉ có một số biến dưới đây có thể giúp tăng CV"
   ]
  },
  {
   "cell_type": "code",
   "execution_count": 13,
   "metadata": {
    "_cell_guid": "deb587ef-1afe-49b0-9f23-641c6c83bb0c",
    "_uuid": "fd3cf142-e4e4-4c28-b9af-3400d3b60b85",
    "execution": {
     "iopub.execute_input": "2020-09-25T04:09:08.362233Z",
     "iopub.status.busy": "2020-09-25T04:09:08.361583Z",
     "iopub.status.idle": "2020-09-25T04:09:34.540210Z",
     "shell.execute_reply": "2020-09-25T04:09:34.539719Z"
    },
    "papermill": {
     "duration": 26.22551,
     "end_time": "2020-09-25T04:09:34.540323",
     "exception": false,
     "start_time": "2020-09-25T04:09:08.314813",
     "status": "completed"
    },
    "tags": []
   },
   "outputs": [
    {
     "name": "stderr",
     "output_type": "stream",
     "text": [
      "/opt/conda/lib/python3.7/site-packages/pandas/core/series.py:726: RuntimeWarning: divide by zero encountered in log\n",
      "  result = getattr(ufunc, method)(*inputs, **kwargs)\n"
     ]
    },
    {
     "name": "stdout",
     "output_type": "stream",
     "text": [
      "w_Field_18 0.036498281860663236\n",
      "8728 31\n",
      "w_Field_36 0.10230690320016794\n",
      "35 28\n",
      "w_Field_54 0.03368353381041859\n",
      "50 23\n",
      "w_Field_61 0.11288983512122115\n",
      "37 32\n",
      "w_data.basic_info.locale 0.08865003072103528\n",
      "28 13\n",
      "w_currentLocationState 0.08566040853002233\n",
      "236 74\n",
      "w_homeTownCountry 0.07051868492385169\n",
      "45 16\n"
     ]
    }
   ],
   "source": [
    "fea_cat_2_woe = []\n",
    "for c in ['Field_18', 'Field_36', 'Field_54', 'Field_61',\n",
    "          'data.basic_info.locale', 'currentLocationState',\n",
    "          'homeTownCountry']:\n",
    "    if df[c].nunique() < 1:\n",
    "        print(c + ':big:',\n",
    "              len(Series.unique(df[c])),\n",
    "              len(Series.unique(df[:53030][c])))\n",
    "    else:\n",
    "        conv = char_bin(df[:53030].label, df[:53030][c])\n",
    "        df = pd.merge(df, conv[['MIN_VALUE', 'WOE']], how='left', left_on=c, right_on='MIN_VALUE'). \\\n",
    "                        rename(columns={'WOE': 'w_' + c}).drop('MIN_VALUE', axis=1)\n",
    "        gini(df=df[:53030], c='w_' + c, label='label')\n",
    "        print(df[c].nunique(), df['w_' + c].nunique())\n",
    "        fea_cat_2_woe.append('w_' + c)"
   ]
  },
  {
   "cell_type": "markdown",
   "metadata": {
    "papermill": {
     "duration": 0.040252,
     "end_time": "2020-09-25T04:09:34.616953",
     "exception": false,
     "start_time": "2020-09-25T04:09:34.576701",
     "status": "completed"
    },
    "tags": []
   },
   "source": [
    "#### One hot encoding"
   ]
  },
  {
   "cell_type": "markdown",
   "metadata": {
    "papermill": {
     "duration": 0.035696,
     "end_time": "2020-09-25T04:09:34.700259",
     "exception": false,
     "start_time": "2020-09-25T04:09:34.664563",
     "status": "completed"
    },
    "tags": []
   },
   "source": [
    "Nhóm sử dụng onehot-encoder cho một số categorical features, quá trình cho thấy sử dụng onehotencode cho các categorical features (có lượng category không quá lớn) sẽ giúp model ổn định và tránh overfit, nhất là đối với dữ liệu nhiều nan như Kalapa.\n",
    "\n",
    "Qua quá trình thử nghiệm team nhận thấy khi thay đổi tham số drop_first của one_hot_encoder, dữ liệu sau khi encode cho kết quả của mô hình có sự khác nhau cả CV và LB,\n",
    "sau khi blending 2 model kết quả được cãi thiện rõ rệt nên team đã sử dụng blend model cho 2 nhóm dữ liệu one hot encoder."
   ]
  },
  {
   "cell_type": "code",
   "execution_count": 14,
   "metadata": {
    "_cell_guid": "9de4fe10-33a6-4bea-94a9-4a953e670f38",
    "_uuid": "b40db837-162e-4599-8a18-2621071e448c",
    "execution": {
     "iopub.execute_input": "2020-09-25T04:09:34.857918Z",
     "iopub.status.busy": "2020-09-25T04:09:34.837645Z",
     "iopub.status.idle": "2020-09-25T04:09:36.736310Z",
     "shell.execute_reply": "2020-09-25T04:09:36.735678Z"
    },
    "papermill": {
     "duration": 1.999914,
     "end_time": "2020-09-25T04:09:36.736419",
     "exception": false,
     "start_time": "2020-09-25T04:09:34.736505",
     "status": "completed"
    },
    "tags": []
   },
   "outputs": [],
   "source": [
    "onehotvar = la_fea_cat_1 + ['la_brief', 'w_Field_61',\n",
    "                            'w_data.basic_info.locale',\n",
    "                            'w_currentLocationState']\n",
    "dumf = ['dum_' + c for c in onehotvar]\n",
    "\n",
    "\n",
    "dummies_without_drop = pd.get_dummies(df, columns=onehotvar, prefix=dumf,\n",
    "                         drop_first=False, sparse=True)\n",
    "\n",
    "dummies_with_drop = pd.get_dummies(df, columns=onehotvar, prefix=dumf,\n",
    "                         drop_first=True, sparse=True)\n",
    "\n",
    "dumvar_without_drop = [c for c in dummies_without_drop.columns if c.startswith('dum_')]\n",
    "dumvar_with_drop = [c for c in dummies_with_drop.columns if c.startswith('dum_')]"
   ]
  },
  {
   "cell_type": "markdown",
   "metadata": {
    "papermill": {
     "duration": 0.035692,
     "end_time": "2020-09-25T04:09:36.808309",
     "exception": false,
     "start_time": "2020-09-25T04:09:36.772617",
     "status": "completed"
    },
    "tags": []
   },
   "source": [
    "# II. Modeling"
   ]
  },
  {
   "cell_type": "markdown",
   "metadata": {
    "papermill": {
     "duration": 0.036611,
     "end_time": "2020-09-25T04:09:36.881058",
     "exception": false,
     "start_time": "2020-09-25T04:09:36.844447",
     "status": "completed"
    },
    "tags": []
   },
   "source": [
    "Kết thúc phần xử lý dữ liệu và tạo biến, đối với phần modelling, nhóm sử dụng model quen thuộc cho các bài toán dạng này: lightgbm. Khi sử dụng lightgbm, thách thức nhất là quá trình finetune parametter. Do đặc thù dữ liệu có nhiều giá trị NaN, để model ổn định, nhóm chỉ sử dụng model lgb với max_depth và num_leaves thấp để tránh overfit. Thêm vào đó, model sẽ được train them 3 random seed khác nhau để tăng tính ổn định"
   ]
  },
  {
   "cell_type": "markdown",
   "metadata": {
    "papermill": {
     "duration": 0.035847,
     "end_time": "2020-09-25T04:09:36.954725",
     "exception": false,
     "start_time": "2020-09-25T04:09:36.918878",
     "status": "completed"
    },
    "tags": []
   },
   "source": [
    "## 1. The first model using one-hot-encoder without drop_first \n",
    "#### Use dummies_without_drop variable "
   ]
  },
  {
   "cell_type": "markdown",
   "metadata": {
    "papermill": {
     "duration": 0.037014,
     "end_time": "2020-09-25T04:09:37.028789",
     "exception": false,
     "start_time": "2020-09-25T04:09:36.991775",
     "status": "completed"
    },
    "tags": []
   },
   "source": [
    "#### Setting model parameters"
   ]
  },
  {
   "cell_type": "code",
   "execution_count": 15,
   "metadata": {
    "_cell_guid": "70804ca8-78c0-4022-9498-d6b698f5a2d2",
    "_uuid": "95715248-3618-46f2-9920-7c8331fe136d",
    "execution": {
     "iopub.execute_input": "2020-09-25T04:09:37.108753Z",
     "iopub.status.busy": "2020-09-25T04:09:37.107715Z",
     "iopub.status.idle": "2020-09-25T04:09:37.111135Z",
     "shell.execute_reply": "2020-09-25T04:09:37.110511Z"
    },
    "papermill": {
     "duration": 0.046213,
     "end_time": "2020-09-25T04:09:37.111247",
     "exception": false,
     "start_time": "2020-09-25T04:09:37.065034",
     "status": "completed"
    },
    "tags": []
   },
   "outputs": [],
   "source": [
    "param = {\n",
    "    'bagging_freq': 5,\n",
    "    'bagging_fraction': 0.8,\n",
    "    'boost_from_average': 'false',\n",
    "    'scale_pos_weight': 1,\n",
    "    'boost': 'gbdt',\n",
    "    'feature_fraction': 0.8,\n",
    "    'learning_rate': 0.01,\n",
    "    'max_depth': 8,\n",
    "    'metric': 'auc',  # cross_entropy binary_logloss auc\n",
    "    'min_data_in_leaf': 80,\n",
    "    'min_sum_hessian_in_leaf': 10.0,\n",
    "    'num_leaves': 64,\n",
    "    'num_threads': 8,\n",
    "    'tree_learner': 'serial',  # serial feature data voting\n",
    "    'objective': 'binary',\n",
    "    'verbosity': 1,\n",
    "    'max_bin': 255,\n",
    "    'min_gain_to_split': 0,\n",
    "}\n",
    "nf = 5"
   ]
  },
  {
   "cell_type": "markdown",
   "metadata": {
    "papermill": {
     "duration": 0.036488,
     "end_time": "2020-09-25T04:09:37.184436",
     "exception": false,
     "start_time": "2020-09-25T04:09:37.147948",
     "status": "completed"
    },
    "tags": []
   },
   "source": [
    "#### Getting training features"
   ]
  },
  {
   "cell_type": "code",
   "execution_count": 16,
   "metadata": {
    "_cell_guid": "0a5249ad-4210-4257-ab2c-f7ff4b51598e",
    "_uuid": "bc24cdb1-ea4c-40a2-b1b4-7611d5cecedb",
    "execution": {
     "iopub.execute_input": "2020-09-25T04:09:37.267025Z",
     "iopub.status.busy": "2020-09-25T04:09:37.266370Z",
     "iopub.status.idle": "2020-09-25T04:09:38.024511Z",
     "shell.execute_reply": "2020-09-25T04:09:38.025274Z"
    },
    "papermill": {
     "duration": 0.803586,
     "end_time": "2020-09-25T04:09:38.025494",
     "exception": false,
     "start_time": "2020-09-25T04:09:37.221908",
     "status": "completed"
    },
    "tags": []
   },
   "outputs": [
    {
     "name": "stdout",
     "output_type": "stream",
     "text": [
      "num of features for model: 384 (53030, 384) (20381, 384) (53030,)\n"
     ]
    }
   ],
   "source": [
    "df_train1 = dummies_without_drop[:53030]\n",
    "df_test1 = dummies_without_drop[53030:]\n",
    "X_train = df_train1\n",
    "X_test = df_test1\n",
    "target = X_train.label\n",
    "group = X_train.label.astype(str)\n",
    "\n",
    "features = [c for c in fea_selected_float + dumvar_without_drop + \\\n",
    "            feature_combine_Org_Query + fea_selected_partner + fea_float_count + \\\n",
    "            ['w_Field_18', 't_diachi', 'w_Field_36', 'w_Field_54',\n",
    "             't_Field_55', 't_Field_56', 'maCv_processed', 'la_currentLocationCity',\n",
    "             'la_currentLocationCountry', 'la_currentLocationName', 'la_homeTownCity',\n",
    "             'w_homeTownCountry', 'la_homeTownName', 'la_homeTownState',\n",
    "             'diff2', 'diff4', 'quarter_F_startDate', 'quarter_F_endDate',\n",
    "             'quarter_E_startDate', 'quarter_E_endDate', 'quarter_C_startDate',\n",
    "             'quarter_C_endDate', 'quarter_G_startDate', 'quarter_G_endDate',\n",
    "             'quarter_A_startDate', 'quarter_A_endDate', 't_currentLocationLatitude',\n",
    "             't_currentLocationLongitude', 't_homeTownLatitude', 't_homeTownLongitude'] \\\n",
    "            + fea_sq if c not in ['currentLocationLatitude', 'currentLocationLongitude', \n",
    "                                  'homeTownLatitude', 'homeTownLongitude']]\n",
    "\n",
    "print( 'num of features for model:', len(features), X_train[features].shape,\n",
    "                                      X_test[features].shape, target.shape)"
   ]
  },
  {
   "cell_type": "markdown",
   "metadata": {
    "papermill": {
     "duration": 0.036421,
     "end_time": "2020-09-25T04:09:38.099354",
     "exception": false,
     "start_time": "2020-09-25T04:09:38.062933",
     "status": "completed"
    },
    "tags": []
   },
   "source": [
    "#### Training model 1"
   ]
  },
  {
   "cell_type": "code",
   "execution_count": 17,
   "metadata": {
    "_cell_guid": "c8b0880a-2314-471b-bb4a-c3287ce13563",
    "_uuid": "9d1bd256-d5ff-452d-b6cd-f361e828969b",
    "execution": {
     "iopub.execute_input": "2020-09-25T04:09:38.375975Z",
     "iopub.status.busy": "2020-09-25T04:09:38.191327Z",
     "iopub.status.idle": "2020-09-25T04:28:42.998143Z",
     "shell.execute_reply": "2020-09-25T04:28:42.997604Z"
    },
    "papermill": {
     "duration": 1144.862283,
     "end_time": "2020-09-25T04:28:42.998268",
     "exception": false,
     "start_time": "2020-09-25T04:09:38.135985",
     "status": "completed"
    },
    "tags": []
   },
   "outputs": [
    {
     "name": "stdout",
     "output_type": "stream",
     "text": [
      "------------------------------\n",
      "Fold 0\n",
      "Training until validation scores don't improve for 500 rounds\n",
      "[200]\ttraining's auc: 0.779108\tvalid_1's auc: 0.739426\n",
      "[400]\ttraining's auc: 0.806636\tvalid_1's auc: 0.748768\n",
      "[600]\ttraining's auc: 0.824378\tvalid_1's auc: 0.752298\n",
      "[800]\ttraining's auc: 0.839041\tvalid_1's auc: 0.753708\n",
      "[1000]\ttraining's auc: 0.850427\tvalid_1's auc: 0.754175\n",
      "[1200]\ttraining's auc: 0.860957\tvalid_1's auc: 0.754459\n",
      "[1400]\ttraining's auc: 0.871463\tvalid_1's auc: 0.754698\n",
      "[1600]\ttraining's auc: 0.880089\tvalid_1's auc: 0.754731\n",
      "[1800]\ttraining's auc: 0.887427\tvalid_1's auc: 0.754473\n",
      "[2000]\ttraining's auc: 0.894655\tvalid_1's auc: 0.754266\n",
      "Early stopping, best iteration is:\n",
      "[1534]\ttraining's auc: 0.877028\tvalid_1's auc: 0.754773\n",
      "0.7547728097932521\n",
      "Fold 1\n",
      "Training until validation scores don't improve for 500 rounds\n",
      "[200]\ttraining's auc: 0.776876\tvalid_1's auc: 0.753876\n",
      "[400]\ttraining's auc: 0.804288\tvalid_1's auc: 0.760545\n",
      "[600]\ttraining's auc: 0.822747\tvalid_1's auc: 0.762466\n",
      "[800]\ttraining's auc: 0.836165\tvalid_1's auc: 0.763784\n",
      "[1000]\ttraining's auc: 0.84715\tvalid_1's auc: 0.764267\n",
      "[1200]\ttraining's auc: 0.857357\tvalid_1's auc: 0.76446\n",
      "[1400]\ttraining's auc: 0.8676\tvalid_1's auc: 0.764238\n",
      "[1600]\ttraining's auc: 0.876558\tvalid_1's auc: 0.764437\n",
      "Early stopping, best iteration is:\n",
      "[1124]\ttraining's auc: 0.853995\tvalid_1's auc: 0.764492\n",
      "0.7644921328072722\n",
      "Fold 2\n",
      "Training until validation scores don't improve for 500 rounds\n",
      "[200]\ttraining's auc: 0.777238\tvalid_1's auc: 0.742948\n",
      "[400]\ttraining's auc: 0.804928\tvalid_1's auc: 0.752205\n",
      "[600]\ttraining's auc: 0.823642\tvalid_1's auc: 0.756512\n",
      "[800]\ttraining's auc: 0.837002\tvalid_1's auc: 0.758842\n",
      "[1000]\ttraining's auc: 0.850133\tvalid_1's auc: 0.760844\n",
      "[1200]\ttraining's auc: 0.860026\tvalid_1's auc: 0.761761\n",
      "[1400]\ttraining's auc: 0.868664\tvalid_1's auc: 0.762163\n",
      "[1600]\ttraining's auc: 0.877101\tvalid_1's auc: 0.762871\n",
      "[1800]\ttraining's auc: 0.884989\tvalid_1's auc: 0.762681\n",
      "[2000]\ttraining's auc: 0.891801\tvalid_1's auc: 0.762744\n",
      "Early stopping, best iteration is:\n",
      "[1630]\ttraining's auc: 0.878406\tvalid_1's auc: 0.763008\n",
      "0.7630075587837046\n",
      "Fold 3\n",
      "Training until validation scores don't improve for 500 rounds\n",
      "[200]\ttraining's auc: 0.777574\tvalid_1's auc: 0.741497\n",
      "[400]\ttraining's auc: 0.805759\tvalid_1's auc: 0.750098\n",
      "[600]\ttraining's auc: 0.824294\tvalid_1's auc: 0.754177\n",
      "[800]\ttraining's auc: 0.838168\tvalid_1's auc: 0.755999\n",
      "[1000]\ttraining's auc: 0.849421\tvalid_1's auc: 0.756926\n",
      "[1200]\ttraining's auc: 0.860103\tvalid_1's auc: 0.757664\n",
      "[1400]\ttraining's auc: 0.869877\tvalid_1's auc: 0.757928\n",
      "[1600]\ttraining's auc: 0.877748\tvalid_1's auc: 0.75812\n",
      "[1800]\ttraining's auc: 0.886118\tvalid_1's auc: 0.75798\n",
      "[2000]\ttraining's auc: 0.893357\tvalid_1's auc: 0.757841\n",
      "Early stopping, best iteration is:\n",
      "[1616]\ttraining's auc: 0.878447\tvalid_1's auc: 0.758225\n",
      "0.7582254216700031\n",
      "Fold 4\n",
      "Training until validation scores don't improve for 500 rounds\n",
      "[200]\ttraining's auc: 0.776492\tvalid_1's auc: 0.746853\n",
      "[400]\ttraining's auc: 0.805764\tvalid_1's auc: 0.755668\n",
      "[600]\ttraining's auc: 0.82499\tvalid_1's auc: 0.758705\n",
      "[800]\ttraining's auc: 0.838781\tvalid_1's auc: 0.760067\n",
      "[1000]\ttraining's auc: 0.850298\tvalid_1's auc: 0.759933\n",
      "[1200]\ttraining's auc: 0.861152\tvalid_1's auc: 0.760216\n",
      "[1400]\ttraining's auc: 0.870463\tvalid_1's auc: 0.760078\n",
      "[1600]\ttraining's auc: 0.878829\tvalid_1's auc: 0.75974\n",
      "Early stopping, best iteration is:\n",
      "[1253]\ttraining's auc: 0.86376\tvalid_1's auc: 0.760512\n",
      "0.7605119413139222\n",
      "CV score: 0.76006482\n",
      "CV score AR: 0.52012964\n",
      "AUC mean: 0.760202\n",
      "AR mean: 0.52040395\n",
      "AUC std:0.00691407\n",
      "------------------------------\n",
      "Fold 0\n",
      "Training until validation scores don't improve for 500 rounds\n",
      "[200]\ttraining's auc: 0.779701\tvalid_1's auc: 0.736062\n",
      "[400]\ttraining's auc: 0.807208\tvalid_1's auc: 0.74499\n",
      "[600]\ttraining's auc: 0.826084\tvalid_1's auc: 0.74849\n",
      "[800]\ttraining's auc: 0.83936\tvalid_1's auc: 0.749838\n",
      "[1000]\ttraining's auc: 0.85084\tvalid_1's auc: 0.751058\n",
      "[1200]\ttraining's auc: 0.861394\tvalid_1's auc: 0.751806\n",
      "[1400]\ttraining's auc: 0.870747\tvalid_1's auc: 0.751995\n",
      "[1600]\ttraining's auc: 0.878726\tvalid_1's auc: 0.752045\n",
      "[1800]\ttraining's auc: 0.886171\tvalid_1's auc: 0.751831\n",
      "[2000]\ttraining's auc: 0.893456\tvalid_1's auc: 0.751736\n",
      "Early stopping, best iteration is:\n",
      "[1614]\ttraining's auc: 0.879414\tvalid_1's auc: 0.752201\n",
      "0.7522008037275081\n",
      "Fold 1\n",
      "Training until validation scores don't improve for 500 rounds\n",
      "[200]\ttraining's auc: 0.777096\tvalid_1's auc: 0.754472\n",
      "[400]\ttraining's auc: 0.80509\tvalid_1's auc: 0.761776\n",
      "[600]\ttraining's auc: 0.823575\tvalid_1's auc: 0.76461\n",
      "[800]\ttraining's auc: 0.837271\tvalid_1's auc: 0.765515\n",
      "[1000]\ttraining's auc: 0.848702\tvalid_1's auc: 0.766047\n",
      "[1200]\ttraining's auc: 0.859514\tvalid_1's auc: 0.766017\n",
      "[1400]\ttraining's auc: 0.869783\tvalid_1's auc: 0.766407\n",
      "[1600]\ttraining's auc: 0.877739\tvalid_1's auc: 0.765959\n",
      "[1800]\ttraining's auc: 0.885992\tvalid_1's auc: 0.765562\n",
      "Early stopping, best iteration is:\n",
      "[1394]\ttraining's auc: 0.869437\tvalid_1's auc: 0.766458\n",
      "0.7664582274921081\n",
      "Fold 2\n",
      "Training until validation scores don't improve for 500 rounds\n",
      "[200]\ttraining's auc: 0.777218\tvalid_1's auc: 0.74845\n",
      "[400]\ttraining's auc: 0.806134\tvalid_1's auc: 0.756181\n",
      "[600]\ttraining's auc: 0.824085\tvalid_1's auc: 0.759284\n",
      "[800]\ttraining's auc: 0.838224\tvalid_1's auc: 0.761228\n",
      "[1000]\ttraining's auc: 0.850197\tvalid_1's auc: 0.762731\n",
      "[1200]\ttraining's auc: 0.859478\tvalid_1's auc: 0.763949\n",
      "[1400]\ttraining's auc: 0.86926\tvalid_1's auc: 0.764653\n",
      "[1600]\ttraining's auc: 0.87814\tvalid_1's auc: 0.764809\n",
      "[1800]\ttraining's auc: 0.885312\tvalid_1's auc: 0.764981\n",
      "[2000]\ttraining's auc: 0.892589\tvalid_1's auc: 0.76509\n",
      "[2200]\ttraining's auc: 0.899569\tvalid_1's auc: 0.764885\n",
      "[2400]\ttraining's auc: 0.905787\tvalid_1's auc: 0.764417\n",
      "Early stopping, best iteration is:\n",
      "[2097]\ttraining's auc: 0.896239\tvalid_1's auc: 0.765222\n",
      "0.7652215309304775\n",
      "Fold 3\n",
      "Training until validation scores don't improve for 500 rounds\n",
      "[200]\ttraining's auc: 0.776695\tvalid_1's auc: 0.74783\n",
      "[400]\ttraining's auc: 0.804731\tvalid_1's auc: 0.756454\n",
      "[600]\ttraining's auc: 0.822993\tvalid_1's auc: 0.759159\n",
      "[800]\ttraining's auc: 0.836485\tvalid_1's auc: 0.760186\n",
      "[1000]\ttraining's auc: 0.847566\tvalid_1's auc: 0.760596\n",
      "[1200]\ttraining's auc: 0.857876\tvalid_1's auc: 0.760635\n",
      "[1400]\ttraining's auc: 0.867565\tvalid_1's auc: 0.760237\n",
      "[1600]\ttraining's auc: 0.875867\tvalid_1's auc: 0.759673\n",
      "Early stopping, best iteration is:\n",
      "[1145]\ttraining's auc: 0.855307\tvalid_1's auc: 0.760723\n",
      "0.7607231753061794\n",
      "Fold 4\n",
      "Training until validation scores don't improve for 500 rounds\n",
      "[200]\ttraining's auc: 0.776583\tvalid_1's auc: 0.74421\n",
      "[400]\ttraining's auc: 0.805143\tvalid_1's auc: 0.75487\n",
      "[600]\ttraining's auc: 0.823275\tvalid_1's auc: 0.758585\n",
      "[800]\ttraining's auc: 0.837305\tvalid_1's auc: 0.760034\n",
      "[1000]\ttraining's auc: 0.847774\tvalid_1's auc: 0.761153\n",
      "[1200]\ttraining's auc: 0.857666\tvalid_1's auc: 0.761958\n",
      "[1400]\ttraining's auc: 0.867498\tvalid_1's auc: 0.762177\n",
      "[1600]\ttraining's auc: 0.875924\tvalid_1's auc: 0.762605\n",
      "[1800]\ttraining's auc: 0.883978\tvalid_1's auc: 0.762474\n",
      "[2000]\ttraining's auc: 0.891195\tvalid_1's auc: 0.762328\n",
      "Early stopping, best iteration is:\n",
      "[1624]\ttraining's auc: 0.876832\tvalid_1's auc: 0.76266\n",
      "0.7626602879642674\n",
      "CV score: 0.76136421\n",
      "CV score AR: 0.52272843\n",
      "AUC mean: 0.761453\n",
      "AR mean: 0.52290561\n",
      "AUC std:0.01007363\n",
      "------------------------------\n",
      "Fold 0\n",
      "Training until validation scores don't improve for 500 rounds\n",
      "[200]\ttraining's auc: 0.777799\tvalid_1's auc: 0.747507\n",
      "[400]\ttraining's auc: 0.805702\tvalid_1's auc: 0.755507\n",
      "[600]\ttraining's auc: 0.824136\tvalid_1's auc: 0.758333\n",
      "[800]\ttraining's auc: 0.838129\tvalid_1's auc: 0.759511\n",
      "[1000]\ttraining's auc: 0.850047\tvalid_1's auc: 0.760254\n",
      "[1200]\ttraining's auc: 0.860899\tvalid_1's auc: 0.760738\n",
      "[1400]\ttraining's auc: 0.86971\tvalid_1's auc: 0.760815\n",
      "[1600]\ttraining's auc: 0.877636\tvalid_1's auc: 0.760623\n",
      "Early stopping, best iteration is:\n",
      "[1251]\ttraining's auc: 0.863645\tvalid_1's auc: 0.761032\n",
      "0.7610316611463797\n",
      "Fold 1\n",
      "Training until validation scores don't improve for 500 rounds\n",
      "[200]\ttraining's auc: 0.776205\tvalid_1's auc: 0.744739\n",
      "[400]\ttraining's auc: 0.805192\tvalid_1's auc: 0.754157\n",
      "[600]\ttraining's auc: 0.824006\tvalid_1's auc: 0.757179\n",
      "[800]\ttraining's auc: 0.837559\tvalid_1's auc: 0.758851\n",
      "[1000]\ttraining's auc: 0.849223\tvalid_1's auc: 0.759184\n",
      "[1200]\ttraining's auc: 0.860075\tvalid_1's auc: 0.758951\n",
      "Early stopping, best iteration is:\n",
      "[875]\ttraining's auc: 0.842364\tvalid_1's auc: 0.759467\n",
      "0.759466965686143\n",
      "Fold 2\n",
      "Training until validation scores don't improve for 500 rounds\n",
      "[200]\ttraining's auc: 0.776561\tvalid_1's auc: 0.751147\n",
      "[400]\ttraining's auc: 0.804946\tvalid_1's auc: 0.760527\n",
      "[600]\ttraining's auc: 0.823116\tvalid_1's auc: 0.763799\n",
      "[800]\ttraining's auc: 0.83734\tvalid_1's auc: 0.765225\n",
      "[1000]\ttraining's auc: 0.850014\tvalid_1's auc: 0.766252\n",
      "[1200]\ttraining's auc: 0.859734\tvalid_1's auc: 0.766349\n",
      "[1400]\ttraining's auc: 0.868566\tvalid_1's auc: 0.766241\n",
      "[1600]\ttraining's auc: 0.876086\tvalid_1's auc: 0.765983\n",
      "Early stopping, best iteration is:\n",
      "[1285]\ttraining's auc: 0.863304\tvalid_1's auc: 0.766576\n",
      "0.7665760042046328\n",
      "Fold 3\n",
      "Training until validation scores don't improve for 500 rounds\n",
      "[200]\ttraining's auc: 0.779167\tvalid_1's auc: 0.740215\n",
      "[400]\ttraining's auc: 0.806664\tvalid_1's auc: 0.747971\n",
      "[600]\ttraining's auc: 0.824315\tvalid_1's auc: 0.751982\n",
      "[800]\ttraining's auc: 0.837364\tvalid_1's auc: 0.753598\n",
      "[1000]\ttraining's auc: 0.848454\tvalid_1's auc: 0.754094\n",
      "[1200]\ttraining's auc: 0.859555\tvalid_1's auc: 0.754452\n",
      "[1400]\ttraining's auc: 0.868696\tvalid_1's auc: 0.754231\n",
      "[1600]\ttraining's auc: 0.877997\tvalid_1's auc: 0.754351\n",
      "Early stopping, best iteration is:\n",
      "[1285]\ttraining's auc: 0.863663\tvalid_1's auc: 0.754637\n",
      "0.7546365799680257\n",
      "Fold 4\n",
      "Training until validation scores don't improve for 500 rounds\n",
      "[200]\ttraining's auc: 0.777192\tvalid_1's auc: 0.743985\n",
      "[400]\ttraining's auc: 0.8059\tvalid_1's auc: 0.753625\n",
      "[600]\ttraining's auc: 0.823902\tvalid_1's auc: 0.756257\n",
      "[800]\ttraining's auc: 0.837168\tvalid_1's auc: 0.757476\n",
      "[1000]\ttraining's auc: 0.847654\tvalid_1's auc: 0.758472\n",
      "[1200]\ttraining's auc: 0.859005\tvalid_1's auc: 0.759532\n",
      "[1400]\ttraining's auc: 0.868363\tvalid_1's auc: 0.760291\n",
      "[1600]\ttraining's auc: 0.876625\tvalid_1's auc: 0.75999\n",
      "[1800]\ttraining's auc: 0.885129\tvalid_1's auc: 0.759801\n",
      "Early stopping, best iteration is:\n",
      "[1435]\ttraining's auc: 0.870168\tvalid_1's auc: 0.760375\n",
      "0.7603751855845904\n",
      "CV score: 0.76036480\n",
      "CV score AR: 0.52072960\n",
      "AUC mean: 0.760417\n",
      "AR mean: 0.52083456\n",
      "AUC std:0.00762253\n",
      "[0.520129642623679, 0.5227284262202803, 0.5207295970123966]\n",
      "CV mean Gini 0.5211958886187853\n"
     ]
    }
   ],
   "source": [
    "# Set list of seeds\n",
    "states = [42, 11, 100]\n",
    "AR = []\n",
    "predictions = np.zeros(len(X_test))\n",
    "\n",
    "\n",
    "# Training\n",
    "for random_state in states:\n",
    "    print('-' * 30)\n",
    "    param['random_state'] = random_state\n",
    "    folds = StratifiedKFold(n_splits=nf, shuffle=True, random_state=random_state)\n",
    "    a = folds.split(X_train.values, group.values)\n",
    "    aucavg = []\n",
    "    oof = np.zeros(len(X_train))\n",
    "    pre = pd.DataFrame()\n",
    "    feature_importance_df = pd.DataFrame()\n",
    "\n",
    "    for fold_, (trn_idx, val_idx) in enumerate(a):\n",
    "        print(\"Fold {}\".format(fold_))\n",
    "        trn_data = lgb.Dataset(X_train.iloc[trn_idx][features],\n",
    "                               label=target.iloc[trn_idx])\n",
    "        \n",
    "        val_data = lgb.Dataset(X_train.iloc[val_idx][features], label=target.iloc[val_idx])\n",
    "        \n",
    "        clf = lgb.train(param, trn_data, 5000, valid_sets=[trn_data, val_data],\n",
    "                        verbose_eval=200, early_stopping_rounds=500)\n",
    "        \n",
    "        oof[val_idx] = clf.predict(X_train.iloc[val_idx][features], \\\n",
    "                                   num_iteration=clf.best_iteration)\n",
    "        fold_importance_df = pd.DataFrame()\n",
    "        fold_importance_df[\"Feature\"] = features\n",
    "        fold_importance_df[\"importance\"] = clf.feature_importance()\n",
    "        fold_importance_df[\"fold\"] = fold_ + 1\n",
    "        \n",
    "        feature_importance_df = pd.concat([feature_importance_df, fold_importance_df], axis=0)\n",
    "        pre['fold_' + str(fold_)] = clf.predict(X_test[features], num_iteration=clf.best_iteration)  # folds.n_splits\n",
    "        predictions += clf.predict(X_test[features], num_iteration=clf.best_iteration) \\\n",
    "                            / (nf * len(states))\n",
    "        aucavg.append(roc_auc_score(target.iloc[val_idx], oof[val_idx]))\n",
    "        print(roc_auc_score(target.iloc[val_idx], oof[val_idx]))\n",
    "        \n",
    "    print(\"CV score: {:<8.8f}\".format(roc_auc_score(target, oof)))\n",
    "    print(\"CV score AR: {:<8.8f}\".format(2 * roc_auc_score(target, oof) - 1))\n",
    "    print('AUC mean: %.6f' % np.mean(aucavg))\n",
    "    print('AR mean: {:<8.8f}'.format(2 * np.mean(aucavg) - 1))\n",
    "    print('AUC std:{:<8.8f}'.format(2 * np.std(aucavg)))\n",
    "\n",
    "    cols = (feature_importance_df[[\"Feature\", \"importance\"]].groupby(\"Feature\").mean()\n",
    "            .sort_values(by=\"importance\", ascending=False)[:30].index)\n",
    "    best_features = feature_importance_df.loc[feature_importance_df.Feature.isin(cols)]\n",
    "    AR.append(2 * roc_auc_score(target, oof) - 1)\n",
    "    \n",
    "print(AR)\n",
    "print('CV mean Gini', np.mean(AR))\n"
   ]
  },
  {
   "cell_type": "markdown",
   "metadata": {
    "papermill": {
     "duration": 0.087845,
     "end_time": "2020-09-25T04:28:43.174096",
     "exception": false,
     "start_time": "2020-09-25T04:28:43.086251",
     "status": "completed"
    },
    "tags": []
   },
   "source": [
    "#### Getting submission 1"
   ]
  },
  {
   "cell_type": "code",
   "execution_count": 18,
   "metadata": {
    "_cell_guid": "321c668f-4be5-4c91-9714-a5313d119000",
    "_uuid": "40fee12b-7e73-4cc9-ad0c-668eea70667f",
    "execution": {
     "iopub.execute_input": "2020-09-25T04:28:43.360808Z",
     "iopub.status.busy": "2020-09-25T04:28:43.360108Z",
     "iopub.status.idle": "2020-09-25T04:28:43.643089Z",
     "shell.execute_reply": "2020-09-25T04:28:43.642408Z"
    },
    "papermill": {
     "duration": 0.38038,
     "end_time": "2020-09-25T04:28:43.643204",
     "exception": false,
     "start_time": "2020-09-25T04:28:43.262824",
     "status": "completed"
    },
    "tags": []
   },
   "outputs": [],
   "source": [
    "sub_df = pd.read_csv('../input/kadata/sample_submission.csv')\n",
    "sub1 = pd.DataFrame({\"id\": sub_df.id.values})\n",
    "sub1['label'] = predictions\n",
    "sub1.to_csv(\"sub1.csv\", index=False)\n",
    "cols = (feature_importance_df[[\"Feature\", \"importance\"]].groupby(\"Feature\").mean()\n",
    "        .sort_values(by=\"importance\", ascending=False)[:30].index)\n",
    "best_features = feature_importance_df.loc[feature_importance_df.Feature.isin(cols)]"
   ]
  },
  {
   "cell_type": "markdown",
   "metadata": {
    "papermill": {
     "duration": 0.087069,
     "end_time": "2020-09-25T04:28:43.817785",
     "exception": false,
     "start_time": "2020-09-25T04:28:43.730716",
     "status": "completed"
    },
    "tags": []
   },
   "source": [
    "#### Plot feature important"
   ]
  },
  {
   "cell_type": "code",
   "execution_count": 19,
   "metadata": {
    "_cell_guid": "d3d26d1d-b224-4d9a-a51c-1be0d849e622",
    "_uuid": "d9f37ae9-0b25-4899-af25-10591da567e1",
    "execution": {
     "iopub.execute_input": "2020-09-25T04:28:44.053018Z",
     "iopub.status.busy": "2020-09-25T04:28:44.052298Z",
     "iopub.status.idle": "2020-09-25T04:28:45.352703Z",
     "shell.execute_reply": "2020-09-25T04:28:45.353209Z"
    },
    "papermill": {
     "duration": 1.448409,
     "end_time": "2020-09-25T04:28:45.353348",
     "exception": false,
     "start_time": "2020-09-25T04:28:43.904939",
     "status": "completed"
    },
    "tags": []
   },
   "outputs": [
    {
     "data": {
      "image/png": "[encoded data removed]",
      "text/plain": [
       "<Figure size 1440x720 with 1 Axes>"
      ]
     },
     "metadata": {
      "needs_background": "light"
     },
     "output_type": "display_data"
    }
   ],
   "source": [
    "plt.figure(figsize=(20, 10))\n",
    "sns.barplot(x=\"importance\", y=\"Feature\",\n",
    "            data=best_features.sort_values( by=\"importance\",\n",
    "                                           ascending=False))\n",
    "plt.title('Features importance (averaged/folds)')\n",
    "plt.tight_layout()\n",
    "plt.savefig('FI1.png')"
   ]
  },
  {
   "cell_type": "markdown",
   "metadata": {
    "papermill": {
     "duration": 0.088492,
     "end_time": "2020-09-25T04:28:45.531776",
     "exception": false,
     "start_time": "2020-09-25T04:28:45.443284",
     "status": "completed"
    },
    "tags": []
   },
   "source": [
    "Kết quả model: CV 0.5210 và Public LB 0.5208, CV và LB khá tương đồng, tuy nhiên Private score chỉ đạt được 0.4476. Nhóm phỏng đoán dữ liệu Private LB khả năng chữa nhiều dữ liệu NaN hơn so với public LB và phân bố khác public LB, do đó model dự báo kém hơn rất nhiều trên Private LB cho dù CV và public LB đã khá tương đồng"
   ]
  },
  {
   "cell_type": "markdown",
   "metadata": {
    "_cell_guid": "64037f34-b1c7-4008-af7d-d45da4b371bd",
    "_uuid": "f8b25ab3-bc9c-4319-93eb-1440335cd947",
    "execution": {
     "iopub.execute_input": "2020-08-18T07:34:43.394572Z",
     "iopub.status.busy": "2020-08-18T07:34:43.393593Z",
     "iopub.status.idle": "2020-08-18T07:34:43.397181Z",
     "shell.execute_reply": "2020-08-18T07:34:43.39641Z"
    },
    "papermill": {
     "duration": 0.088245,
     "end_time": "2020-09-25T04:28:45.708895",
     "exception": false,
     "start_time": "2020-09-25T04:28:45.620650",
     "status": "completed"
    },
    "tags": []
   },
   "source": [
    "## 2. The second model using one-hot-encoder with drop_first=True\n",
    "#### Use dummies_with_drop variable "
   ]
  },
  {
   "cell_type": "markdown",
   "metadata": {
    "papermill": {
     "duration": 0.087815,
     "end_time": "2020-09-25T04:28:45.885363",
     "exception": false,
     "start_time": "2020-09-25T04:28:45.797548",
     "status": "completed"
    },
    "tags": []
   },
   "source": [
    "Tiếp theo, nhóm có train thêm một model nữa để emsemble với model trên, nhóm chỉ thay đổi dropfirst=True trong cách tạo dummies features, còn lại các setup khác giữ lại. Model thứ 2 này được CV 0.5197 và LB 0.5200, private LB là 0.4448. Blend hai model với trọng sô 50-50 là kết quả được giải 3 của cuoc thi với LB 0.5215 và private 0.4473"
   ]
  },
  {
   "cell_type": "markdown",
   "metadata": {
    "papermill": {
     "duration": 0.088228,
     "end_time": "2020-09-25T04:28:46.061916",
     "exception": false,
     "start_time": "2020-09-25T04:28:45.973688",
     "status": "completed"
    },
    "tags": []
   },
   "source": [
    "#### Getting training features"
   ]
  },
  {
   "cell_type": "code",
   "execution_count": 20,
   "metadata": {
    "execution": {
     "iopub.execute_input": "2020-09-25T04:28:46.251567Z",
     "iopub.status.busy": "2020-09-25T04:28:46.250661Z",
     "iopub.status.idle": "2020-09-25T04:28:46.921032Z",
     "shell.execute_reply": "2020-09-25T04:28:46.921526Z"
    },
    "papermill": {
     "duration": 0.771549,
     "end_time": "2020-09-25T04:28:46.921668",
     "exception": false,
     "start_time": "2020-09-25T04:28:46.150119",
     "status": "completed"
    },
    "tags": []
   },
   "outputs": [
    {
     "name": "stdout",
     "output_type": "stream",
     "text": [
      "num of features for model: 369 (53030, 369) (20381, 369) (53030,)\n"
     ]
    }
   ],
   "source": [
    "df_train1 = dummies_with_drop[:53030]\n",
    "df_test1 = dummies_with_drop[53030:]\n",
    "X_train = df_train1\n",
    "X_test = df_test1\n",
    "target = X_train.label\n",
    "group = X_train.label.astype(str)\n",
    "\n",
    "features = [c for c in fea_selected_float + dumvar_with_drop + \\\n",
    "            feature_combine_Org_Query + fea_selected_partner + fea_float_count + \\\n",
    "            ['w_Field_18', 't_diachi', 'w_Field_36', 'w_Field_54',\n",
    "             't_Field_55', 't_Field_56', 'maCv_processed', 'la_currentLocationCity',\n",
    "             'la_currentLocationCountry', 'la_currentLocationName', 'la_homeTownCity',\n",
    "             'w_homeTownCountry', 'la_homeTownName', 'la_homeTownState',\n",
    "             'diff2', 'diff4', 'quarter_F_startDate', 'quarter_F_endDate',\n",
    "             'quarter_E_startDate', 'quarter_E_endDate', 'quarter_C_startDate',\n",
    "             'quarter_C_endDate', 'quarter_G_startDate', 'quarter_G_endDate',\n",
    "             'quarter_A_startDate', 'quarter_A_endDate', 't_currentLocationLatitude',\n",
    "             't_currentLocationLongitude', 't_homeTownLatitude', 't_homeTownLongitude'] \\\n",
    "            + fea_sq if c not in ['currentLocationLatitude', 'currentLocationLongitude', \n",
    "                                  'homeTownLatitude', 'homeTownLongitude']]\n",
    "\n",
    "print( 'num of features for model:', len(features), X_train[features].shape,\n",
    "                                      X_test[features].shape, target.shape)"
   ]
  },
  {
   "cell_type": "markdown",
   "metadata": {
    "papermill": {
     "duration": 0.088902,
     "end_time": "2020-09-25T04:28:47.100135",
     "exception": false,
     "start_time": "2020-09-25T04:28:47.011233",
     "status": "completed"
    },
    "tags": []
   },
   "source": [
    "#### Training model 2"
   ]
  },
  {
   "cell_type": "code",
   "execution_count": 21,
   "metadata": {
    "execution": {
     "iopub.execute_input": "2020-09-25T04:28:47.434969Z",
     "iopub.status.busy": "2020-09-25T04:28:47.433919Z",
     "iopub.status.idle": "2020-09-25T04:49:21.293995Z",
     "shell.execute_reply": "2020-09-25T04:49:21.294471Z"
    },
    "papermill": {
     "duration": 1234.104197,
     "end_time": "2020-09-25T04:49:21.294711",
     "exception": false,
     "start_time": "2020-09-25T04:28:47.190514",
     "status": "completed"
    },
    "tags": []
   },
   "outputs": [
    {
     "name": "stdout",
     "output_type": "stream",
     "text": [
      "------------------------------\n",
      "Fold 0\n",
      "Training until validation scores don't improve for 500 rounds\n",
      "[200]\ttraining's auc: 0.775327\tvalid_1's auc: 0.740087\n",
      "[400]\ttraining's auc: 0.803936\tvalid_1's auc: 0.749127\n",
      "[600]\ttraining's auc: 0.822436\tvalid_1's auc: 0.752234\n",
      "[800]\ttraining's auc: 0.837854\tvalid_1's auc: 0.753669\n",
      "[1000]\ttraining's auc: 0.849753\tvalid_1's auc: 0.754094\n",
      "[1200]\ttraining's auc: 0.86114\tvalid_1's auc: 0.754375\n",
      "[1400]\ttraining's auc: 0.871025\tvalid_1's auc: 0.754274\n",
      "[1600]\ttraining's auc: 0.88012\tvalid_1's auc: 0.754497\n",
      "[1800]\ttraining's auc: 0.887171\tvalid_1's auc: 0.754197\n",
      "[2000]\ttraining's auc: 0.894334\tvalid_1's auc: 0.754106\n",
      "Early stopping, best iteration is:\n",
      "[1655]\ttraining's auc: 0.881959\tvalid_1's auc: 0.75463\n",
      "0.7546297505684582\n",
      "Fold 1\n",
      "Training until validation scores don't improve for 500 rounds\n",
      "[200]\ttraining's auc: 0.774225\tvalid_1's auc: 0.754307\n",
      "[400]\ttraining's auc: 0.802727\tvalid_1's auc: 0.761108\n",
      "[600]\ttraining's auc: 0.821208\tvalid_1's auc: 0.763552\n",
      "[800]\ttraining's auc: 0.83548\tvalid_1's auc: 0.764874\n",
      "[1000]\ttraining's auc: 0.848123\tvalid_1's auc: 0.764891\n",
      "[1200]\ttraining's auc: 0.857883\tvalid_1's auc: 0.764966\n",
      "[1400]\ttraining's auc: 0.868678\tvalid_1's auc: 0.764686\n",
      "Early stopping, best iteration is:\n",
      "[1089]\ttraining's auc: 0.852688\tvalid_1's auc: 0.76517\n",
      "0.7651697699755488\n",
      "Fold 2\n",
      "Training until validation scores don't improve for 500 rounds\n",
      "[200]\ttraining's auc: 0.774279\tvalid_1's auc: 0.740191\n",
      "[400]\ttraining's auc: 0.803132\tvalid_1's auc: 0.751437\n",
      "[600]\ttraining's auc: 0.822384\tvalid_1's auc: 0.756177\n",
      "[800]\ttraining's auc: 0.836845\tvalid_1's auc: 0.758504\n",
      "[1000]\ttraining's auc: 0.849256\tvalid_1's auc: 0.760033\n",
      "[1200]\ttraining's auc: 0.859575\tvalid_1's auc: 0.761145\n",
      "[1400]\ttraining's auc: 0.868657\tvalid_1's auc: 0.761677\n",
      "[1600]\ttraining's auc: 0.877557\tvalid_1's auc: 0.762293\n",
      "[1800]\ttraining's auc: 0.886105\tvalid_1's auc: 0.762313\n",
      "[2000]\ttraining's auc: 0.892785\tvalid_1's auc: 0.762478\n",
      "[2200]\ttraining's auc: 0.900378\tvalid_1's auc: 0.762332\n",
      "[2400]\ttraining's auc: 0.906201\tvalid_1's auc: 0.761933\n",
      "Early stopping, best iteration is:\n",
      "[2020]\ttraining's auc: 0.893447\tvalid_1's auc: 0.762541\n",
      "0.7625405599459025\n",
      "Fold 3\n",
      "Training until validation scores don't improve for 500 rounds\n",
      "[200]\ttraining's auc: 0.775462\tvalid_1's auc: 0.740389\n",
      "[400]\ttraining's auc: 0.803362\tvalid_1's auc: 0.750034\n",
      "[600]\ttraining's auc: 0.822268\tvalid_1's auc: 0.753662\n",
      "[800]\ttraining's auc: 0.8362\tvalid_1's auc: 0.755521\n",
      "[1000]\ttraining's auc: 0.848215\tvalid_1's auc: 0.756681\n",
      "[1200]\ttraining's auc: 0.858598\tvalid_1's auc: 0.75772\n",
      "[1400]\ttraining's auc: 0.868524\tvalid_1's auc: 0.75795\n",
      "[1600]\ttraining's auc: 0.8767\tvalid_1's auc: 0.758101\n",
      "[1800]\ttraining's auc: 0.885415\tvalid_1's auc: 0.757981\n",
      "[2000]\ttraining's auc: 0.892969\tvalid_1's auc: 0.758085\n",
      "Early stopping, best iteration is:\n",
      "[1616]\ttraining's auc: 0.877349\tvalid_1's auc: 0.758221\n",
      "0.7582213958179531\n",
      "Fold 4\n",
      "Training until validation scores don't improve for 500 rounds\n",
      "[200]\ttraining's auc: 0.773452\tvalid_1's auc: 0.747656\n",
      "[400]\ttraining's auc: 0.80306\tvalid_1's auc: 0.75633\n",
      "[600]\ttraining's auc: 0.823982\tvalid_1's auc: 0.759175\n",
      "[800]\ttraining's auc: 0.837905\tvalid_1's auc: 0.76033\n",
      "[1000]\ttraining's auc: 0.850378\tvalid_1's auc: 0.760297\n",
      "[1200]\ttraining's auc: 0.861141\tvalid_1's auc: 0.76066\n",
      "[1400]\ttraining's auc: 0.870827\tvalid_1's auc: 0.760563\n",
      "[1600]\ttraining's auc: 0.879023\tvalid_1's auc: 0.760244\n",
      "Early stopping, best iteration is:\n",
      "[1205]\ttraining's auc: 0.861398\tvalid_1's auc: 0.760767\n",
      "0.7607667613166392\n",
      "CV score: 0.76009703\n",
      "CV score AR: 0.52019406\n",
      "AUC mean: 0.760266\n",
      "AR mean: 0.52053130\n",
      "AUC std:0.00723431\n",
      "------------------------------\n",
      "Fold 0\n",
      "Training until validation scores don't improve for 500 rounds\n",
      "[200]\ttraining's auc: 0.777303\tvalid_1's auc: 0.734382\n",
      "[400]\ttraining's auc: 0.805391\tvalid_1's auc: 0.743764\n",
      "[600]\ttraining's auc: 0.824819\tvalid_1's auc: 0.747209\n",
      "[800]\ttraining's auc: 0.839201\tvalid_1's auc: 0.748982\n",
      "[1000]\ttraining's auc: 0.850382\tvalid_1's auc: 0.749594\n",
      "[1200]\ttraining's auc: 0.861595\tvalid_1's auc: 0.750009\n",
      "[1400]\ttraining's auc: 0.87084\tvalid_1's auc: 0.750287\n",
      "[1600]\ttraining's auc: 0.8793\tvalid_1's auc: 0.750574\n",
      "[1800]\ttraining's auc: 0.887345\tvalid_1's auc: 0.750611\n",
      "[2000]\ttraining's auc: 0.894931\tvalid_1's auc: 0.750512\n",
      "[2200]\ttraining's auc: 0.901868\tvalid_1's auc: 0.750166\n",
      "Early stopping, best iteration is:\n",
      "[1837]\ttraining's auc: 0.888785\tvalid_1's auc: 0.750754\n",
      "0.750753925811285\n",
      "Fold 1\n",
      "Training until validation scores don't improve for 500 rounds\n",
      "[200]\ttraining's auc: 0.773481\tvalid_1's auc: 0.752134\n",
      "[400]\ttraining's auc: 0.803477\tvalid_1's auc: 0.760561\n",
      "[600]\ttraining's auc: 0.822805\tvalid_1's auc: 0.76376\n",
      "[800]\ttraining's auc: 0.836793\tvalid_1's auc: 0.765062\n",
      "[1000]\ttraining's auc: 0.849077\tvalid_1's auc: 0.765543\n",
      "[1200]\ttraining's auc: 0.860457\tvalid_1's auc: 0.765764\n",
      "[1400]\ttraining's auc: 0.870833\tvalid_1's auc: 0.765554\n",
      "[1600]\ttraining's auc: 0.87855\tvalid_1's auc: 0.765335\n",
      "Early stopping, best iteration is:\n",
      "[1281]\ttraining's auc: 0.863912\tvalid_1's auc: 0.765978\n",
      "0.7659776722137294\n",
      "Fold 2\n",
      "Training until validation scores don't improve for 500 rounds\n",
      "[200]\ttraining's auc: 0.77468\tvalid_1's auc: 0.746803\n",
      "[400]\ttraining's auc: 0.803472\tvalid_1's auc: 0.754606\n",
      "[600]\ttraining's auc: 0.822073\tvalid_1's auc: 0.757603\n",
      "[800]\ttraining's auc: 0.836865\tvalid_1's auc: 0.759544\n",
      "[1000]\ttraining's auc: 0.849092\tvalid_1's auc: 0.76127\n",
      "[1200]\ttraining's auc: 0.859119\tvalid_1's auc: 0.762205\n",
      "[1400]\ttraining's auc: 0.869176\tvalid_1's auc: 0.762859\n",
      "[1600]\ttraining's auc: 0.878014\tvalid_1's auc: 0.763151\n",
      "[1800]\ttraining's auc: 0.885128\tvalid_1's auc: 0.763214\n",
      "[2000]\ttraining's auc: 0.892646\tvalid_1's auc: 0.762866\n",
      "[2200]\ttraining's auc: 0.900031\tvalid_1's auc: 0.76275\n",
      "Early stopping, best iteration is:\n",
      "[1820]\ttraining's auc: 0.886022\tvalid_1's auc: 0.763314\n",
      "0.7633137084000594\n",
      "Fold 3\n",
      "Training until validation scores don't improve for 500 rounds\n",
      "[200]\ttraining's auc: 0.774649\tvalid_1's auc: 0.746695\n",
      "[400]\ttraining's auc: 0.802944\tvalid_1's auc: 0.755058\n",
      "[600]\ttraining's auc: 0.82141\tvalid_1's auc: 0.758279\n",
      "[800]\ttraining's auc: 0.836159\tvalid_1's auc: 0.759757\n",
      "[1000]\ttraining's auc: 0.848333\tvalid_1's auc: 0.76047\n",
      "[1200]\ttraining's auc: 0.859659\tvalid_1's auc: 0.760847\n",
      "[1400]\ttraining's auc: 0.869596\tvalid_1's auc: 0.760965\n",
      "[1600]\ttraining's auc: 0.878362\tvalid_1's auc: 0.760654\n",
      "[1800]\ttraining's auc: 0.886837\tvalid_1's auc: 0.760715\n",
      "Early stopping, best iteration is:\n",
      "[1316]\ttraining's auc: 0.865507\tvalid_1's auc: 0.761117\n",
      "0.7611165380235769\n",
      "Fold 4\n",
      "Training until validation scores don't improve for 500 rounds\n",
      "[200]\ttraining's auc: 0.773889\tvalid_1's auc: 0.744799\n",
      "[400]\ttraining's auc: 0.803112\tvalid_1's auc: 0.753869\n",
      "[600]\ttraining's auc: 0.822247\tvalid_1's auc: 0.757694\n",
      "[800]\ttraining's auc: 0.837354\tvalid_1's auc: 0.759451\n",
      "[1000]\ttraining's auc: 0.847807\tvalid_1's auc: 0.760634\n",
      "[1200]\ttraining's auc: 0.857706\tvalid_1's auc: 0.760965\n",
      "[1400]\ttraining's auc: 0.868176\tvalid_1's auc: 0.76098\n",
      "[1600]\ttraining's auc: 0.876682\tvalid_1's auc: 0.761395\n",
      "[1800]\ttraining's auc: 0.885428\tvalid_1's auc: 0.761024\n",
      "[2000]\ttraining's auc: 0.892522\tvalid_1's auc: 0.760988\n",
      "Early stopping, best iteration is:\n",
      "[1651]\ttraining's auc: 0.878589\tvalid_1's auc: 0.761511\n",
      "0.7615105374828804\n",
      "CV score: 0.76040311\n",
      "CV score AR: 0.52080621\n",
      "AUC mean: 0.760534\n",
      "AR mean: 0.52106895\n",
      "AUC std:0.01036545\n",
      "------------------------------\n",
      "Fold 0\n",
      "Training until validation scores don't improve for 500 rounds\n",
      "[200]\ttraining's auc: 0.774659\tvalid_1's auc: 0.743806\n",
      "[400]\ttraining's auc: 0.803068\tvalid_1's auc: 0.752448\n",
      "[600]\ttraining's auc: 0.822914\tvalid_1's auc: 0.755638\n",
      "[800]\ttraining's auc: 0.83693\tvalid_1's auc: 0.757515\n",
      "[1000]\ttraining's auc: 0.848887\tvalid_1's auc: 0.757886\n",
      "[1200]\ttraining's auc: 0.859656\tvalid_1's auc: 0.758224\n",
      "[1400]\ttraining's auc: 0.868647\tvalid_1's auc: 0.758509\n",
      "[1600]\ttraining's auc: 0.876789\tvalid_1's auc: 0.758221\n",
      "[1800]\ttraining's auc: 0.885348\tvalid_1's auc: 0.758022\n",
      "Early stopping, best iteration is:\n",
      "[1420]\ttraining's auc: 0.869628\tvalid_1's auc: 0.758559\n",
      "0.758558970959347\n",
      "Fold 1\n",
      "Training until validation scores don't improve for 500 rounds\n",
      "[200]\ttraining's auc: 0.773994\tvalid_1's auc: 0.74551\n",
      "[400]\ttraining's auc: 0.804015\tvalid_1's auc: 0.754527\n",
      "[600]\ttraining's auc: 0.823626\tvalid_1's auc: 0.75798\n",
      "[800]\ttraining's auc: 0.838169\tvalid_1's auc: 0.759702\n",
      "[1000]\ttraining's auc: 0.849588\tvalid_1's auc: 0.759674\n",
      "[1200]\ttraining's auc: 0.861066\tvalid_1's auc: 0.760052\n",
      "[1400]\ttraining's auc: 0.869569\tvalid_1's auc: 0.759933\n",
      "[1600]\ttraining's auc: 0.878673\tvalid_1's auc: 0.759525\n",
      "[1800]\ttraining's auc: 0.886159\tvalid_1's auc: 0.758906\n",
      "Early stopping, best iteration is:\n",
      "[1310]\ttraining's auc: 0.865986\tvalid_1's auc: 0.760263\n",
      "0.7602628930684809\n",
      "Fold 2\n",
      "Training until validation scores don't improve for 500 rounds\n",
      "[200]\ttraining's auc: 0.774658\tvalid_1's auc: 0.750128\n",
      "[400]\ttraining's auc: 0.803108\tvalid_1's auc: 0.759185\n",
      "[600]\ttraining's auc: 0.822467\tvalid_1's auc: 0.762739\n",
      "[800]\ttraining's auc: 0.83692\tvalid_1's auc: 0.764494\n",
      "[1000]\ttraining's auc: 0.849087\tvalid_1's auc: 0.765456\n",
      "[1200]\ttraining's auc: 0.859599\tvalid_1's auc: 0.765706\n",
      "[1400]\ttraining's auc: 0.869535\tvalid_1's auc: 0.765675\n",
      "[1600]\ttraining's auc: 0.878024\tvalid_1's auc: 0.765713\n",
      "[1800]\ttraining's auc: 0.88574\tvalid_1's auc: 0.765836\n",
      "[2000]\ttraining's auc: 0.892978\tvalid_1's auc: 0.765588\n",
      "[2200]\ttraining's auc: 0.899874\tvalid_1's auc: 0.765224\n",
      "Early stopping, best iteration is:\n",
      "[1735]\ttraining's auc: 0.883154\tvalid_1's auc: 0.765938\n",
      "0.7659381120553195\n",
      "Fold 3\n",
      "Training until validation scores don't improve for 500 rounds\n",
      "[200]\ttraining's auc: 0.775746\tvalid_1's auc: 0.73715\n",
      "[400]\ttraining's auc: 0.805463\tvalid_1's auc: 0.745829\n",
      "[600]\ttraining's auc: 0.823278\tvalid_1's auc: 0.750163\n",
      "[800]\ttraining's auc: 0.836917\tvalid_1's auc: 0.752205\n",
      "[1000]\ttraining's auc: 0.848565\tvalid_1's auc: 0.752835\n",
      "[1200]\ttraining's auc: 0.859791\tvalid_1's auc: 0.753215\n",
      "[1400]\ttraining's auc: 0.869824\tvalid_1's auc: 0.753271\n",
      "[1600]\ttraining's auc: 0.879272\tvalid_1's auc: 0.753165\n",
      "Early stopping, best iteration is:\n",
      "[1283]\ttraining's auc: 0.864556\tvalid_1's auc: 0.753422\n",
      "0.7534221282929776\n",
      "Fold 4\n",
      "Training until validation scores don't improve for 500 rounds\n",
      "[200]\ttraining's auc: 0.77484\tvalid_1's auc: 0.744014\n",
      "[400]\ttraining's auc: 0.80348\tvalid_1's auc: 0.7534\n",
      "[600]\ttraining's auc: 0.823198\tvalid_1's auc: 0.756382\n",
      "[800]\ttraining's auc: 0.836669\tvalid_1's auc: 0.757408\n",
      "[1000]\ttraining's auc: 0.847738\tvalid_1's auc: 0.757812\n",
      "[1200]\ttraining's auc: 0.859665\tvalid_1's auc: 0.758779\n",
      "[1400]\ttraining's auc: 0.868657\tvalid_1's auc: 0.75921\n",
      "[1600]\ttraining's auc: 0.877514\tvalid_1's auc: 0.758982\n",
      "[1800]\ttraining's auc: 0.886036\tvalid_1's auc: 0.759165\n",
      "[2000]\ttraining's auc: 0.893534\tvalid_1's auc: 0.758724\n",
      "Early stopping, best iteration is:\n",
      "[1509]\ttraining's auc: 0.873959\tvalid_1's auc: 0.759271\n",
      "0.7592705821583358\n",
      "CV score: 0.75945476\n",
      "CV score AR: 0.51890952\n",
      "AUC mean: 0.759491\n",
      "AR mean: 0.51898107\n",
      "AUC std:0.00799548\n",
      "[0.5201940591284853, 0.5208062122808608, 0.5189095247144784]\n",
      "CV mean Gini 0.5199699320412748\n"
     ]
    }
   ],
   "source": [
    "# Set list of seeds\n",
    "states = [42, 11, 100]\n",
    "AR = []\n",
    "predictions = np.zeros(len(X_test))\n",
    "\n",
    "\n",
    "# Training\n",
    "for random_state in states:\n",
    "    print('-' * 30)\n",
    "    param['random_state'] = random_state\n",
    "    folds = StratifiedKFold(n_splits=nf, shuffle=True, random_state=random_state)\n",
    "    a = folds.split(X_train.values, group.values)\n",
    "    aucavg = []\n",
    "    oof = np.zeros(len(X_train))\n",
    "    pre = pd.DataFrame()\n",
    "    feature_importance_df = pd.DataFrame()\n",
    "\n",
    "    for fold_, (trn_idx, val_idx) in enumerate(a):\n",
    "        print(\"Fold {}\".format(fold_))\n",
    "        trn_data = lgb.Dataset(X_train.iloc[trn_idx][features],\n",
    "                               label=target.iloc[trn_idx])\n",
    "        \n",
    "        val_data = lgb.Dataset(X_train.iloc[val_idx][features], label=target.iloc[val_idx])\n",
    "        \n",
    "        clf = lgb.train(param, trn_data, 5000, valid_sets=[trn_data, val_data],\n",
    "                        verbose_eval=200, early_stopping_rounds=500)\n",
    "        \n",
    "        oof[val_idx] = clf.predict(X_train.iloc[val_idx][features], \\\n",
    "                                   num_iteration=clf.best_iteration)\n",
    "        fold_importance_df = pd.DataFrame()\n",
    "        fold_importance_df[\"Feature\"] = features\n",
    "        fold_importance_df[\"importance\"] = clf.feature_importance()\n",
    "        fold_importance_df[\"fold\"] = fold_ + 1\n",
    "        \n",
    "        feature_importance_df = pd.concat([feature_importance_df, fold_importance_df], axis=0)\n",
    "        pre['fold_' + str(fold_)] = clf.predict(X_test[features], num_iteration=clf.best_iteration)  # folds.n_splits\n",
    "        predictions += clf.predict(X_test[features], num_iteration=clf.best_iteration) \\\n",
    "                            / (nf * len(states))\n",
    "        aucavg.append(roc_auc_score(target.iloc[val_idx], oof[val_idx]))\n",
    "        print(roc_auc_score(target.iloc[val_idx], oof[val_idx]))\n",
    "        \n",
    "    print(\"CV score: {:<8.8f}\".format(roc_auc_score(target, oof)))\n",
    "    print(\"CV score AR: {:<8.8f}\".format(2 * roc_auc_score(target, oof) - 1))\n",
    "    print('AUC mean: %.6f' % np.mean(aucavg))\n",
    "    print('AR mean: {:<8.8f}'.format(2 * np.mean(aucavg) - 1))\n",
    "    print('AUC std:{:<8.8f}'.format(2 * np.std(aucavg)))\n",
    "\n",
    "    cols = (feature_importance_df[[\"Feature\", \"importance\"]].groupby(\"Feature\").mean()\n",
    "            .sort_values(by=\"importance\", ascending=False)[:30].index)\n",
    "    best_features = feature_importance_df.loc[feature_importance_df.Feature.isin(cols)]\n",
    "    AR.append(2 * roc_auc_score(target, oof) - 1)\n",
    "    \n",
    "print(AR)\n",
    "print('CV mean Gini', np.mean(AR))\n"
   ]
  },
  {
   "cell_type": "markdown",
   "metadata": {
    "papermill": {
     "duration": 0.141125,
     "end_time": "2020-09-25T04:49:21.580574",
     "exception": false,
     "start_time": "2020-09-25T04:49:21.439449",
     "status": "completed"
    },
    "tags": []
   },
   "source": [
    "#### Getting submission 2"
   ]
  },
  {
   "cell_type": "code",
   "execution_count": 22,
   "metadata": {
    "execution": {
     "iopub.execute_input": "2020-09-25T04:49:21.874821Z",
     "iopub.status.busy": "2020-09-25T04:49:21.873950Z",
     "iopub.status.idle": "2020-09-25T04:49:21.942883Z",
     "shell.execute_reply": "2020-09-25T04:49:21.942202Z"
    },
    "papermill": {
     "duration": 0.220217,
     "end_time": "2020-09-25T04:49:21.942998",
     "exception": false,
     "start_time": "2020-09-25T04:49:21.722781",
     "status": "completed"
    },
    "tags": []
   },
   "outputs": [],
   "source": [
    "sub_df = pd.read_csv('../input/kadata/sample_submission.csv')\n",
    "sub2 = pd.DataFrame({\"id\": sub_df.id.values})\n",
    "sub2['label'] = predictions\n",
    "sub2.to_csv(\"sub2.csv\", index=False)\n",
    "cols = (feature_importance_df[[\"Feature\", \"importance\"]].groupby(\"Feature\").mean()\n",
    "        .sort_values(by=\"importance\", ascending=False)[:30].index)\n",
    "best_features = feature_importance_df.loc[feature_importance_df.Feature.isin(cols)]"
   ]
  },
  {
   "cell_type": "markdown",
   "metadata": {
    "papermill": {
     "duration": 0.143279,
     "end_time": "2020-09-25T04:49:22.228631",
     "exception": false,
     "start_time": "2020-09-25T04:49:22.085352",
     "status": "completed"
    },
    "tags": []
   },
   "source": [
    "#### Plot feature important"
   ]
  },
  {
   "cell_type": "code",
   "execution_count": 23,
   "metadata": {
    "execution": {
     "iopub.execute_input": "2020-09-25T04:49:22.547287Z",
     "iopub.status.busy": "2020-09-25T04:49:22.546327Z",
     "iopub.status.idle": "2020-09-25T04:49:23.834694Z",
     "shell.execute_reply": "2020-09-25T04:49:23.835232Z"
    },
    "papermill": {
     "duration": 1.464002,
     "end_time": "2020-09-25T04:49:23.835388",
     "exception": false,
     "start_time": "2020-09-25T04:49:22.371386",
     "status": "completed"
    },
    "tags": []
   },
   "outputs": [
    {
     "data": {
      "image/png": "[encoded data removed]",
      "text/plain": [
       "<Figure size 1440x720 with 1 Axes>"
      ]
     },
     "metadata": {
      "needs_background": "light"
     },
     "output_type": "display_data"
    }
   ],
   "source": [
    "plt.figure(figsize=(20, 10))\n",
    "sns.barplot(x=\"importance\", y=\"Feature\",\n",
    "            data=best_features.sort_values( by=\"importance\",\n",
    "                                           ascending=False))\n",
    "plt.title('Features importance (averaged/folds)')\n",
    "plt.tight_layout()\n",
    "plt.savefig('FI2.png')"
   ]
  },
  {
   "cell_type": "markdown",
   "metadata": {
    "papermill": {
     "duration": 0.147022,
     "end_time": "2020-09-25T04:49:24.129902",
     "exception": false,
     "start_time": "2020-09-25T04:49:23.982880",
     "status": "completed"
    },
    "tags": []
   },
   "source": [
    "## 3. Blending 2 model (weighting 50-50) "
   ]
  },
  {
   "cell_type": "code",
   "execution_count": 24,
   "metadata": {
    "execution": {
     "iopub.execute_input": "2020-09-25T04:49:24.443246Z",
     "iopub.status.busy": "2020-09-25T04:49:24.440982Z",
     "iopub.status.idle": "2020-09-25T04:49:24.500471Z",
     "shell.execute_reply": "2020-09-25T04:49:24.499939Z"
    },
    "papermill": {
     "duration": 0.214334,
     "end_time": "2020-09-25T04:49:24.500639",
     "exception": false,
     "start_time": "2020-09-25T04:49:24.286305",
     "status": "completed"
    },
    "tags": []
   },
   "outputs": [],
   "source": [
    "sub = pd.DataFrame({\"id\": sub_df.id.values})\n",
    "sub['label']=(sub1['label']+sub2['label'])/2\n",
    "sub.to_csv(\"sub_final.csv\", index=False)"
   ]
  }
 ],
 "metadata": {
  "kernelspec": {
   "display_name": "Python 3",
   "language": "python",
   "name": "python3"
  },
  "language_info": {
   "codemirror_mode": {
    "name": "ipython",
    "version": 3
   },
   "file_extension": ".py",
   "mimetype": "text/x-python",
   "name": "python",
   "nbconvert_exporter": "python",
   "pygments_lexer": "ipython3",
   "version": "3.7.6"
  },
  "papermill": {
   "duration": 2443.475246,
   "end_time": "2020-09-25T04:49:24.756694",
   "environment_variables": {},
   "exception": null,
   "input_path": "__notebook__.ipynb",
   "output_path": "__notebook__.ipynb",
   "parameters": {},
   "start_time": "2020-09-25T04:08:41.281448",
   "version": "2.1.0"
  }
 },
 "nbformat": 4,
 "nbformat_minor": 4
}
